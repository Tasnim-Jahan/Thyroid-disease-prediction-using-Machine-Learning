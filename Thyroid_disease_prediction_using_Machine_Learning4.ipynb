{
  "nbformat": 4,
  "nbformat_minor": 0,
  "metadata": {
    "colab": {
      "name": " Thyroid disease prediction using Machine Learning3.ipynb",
      "provenance": [],
      "authorship_tag": "ABX9TyNT17CuQlvwiJyo8oOxyzK4",
      "include_colab_link": true
    },
    "kernelspec": {
      "name": "python3",
      "display_name": "Python 3"
    },
    "language_info": {
      "name": "python"
    }
  },
  "cells": [
    {
      "cell_type": "markdown",
      "metadata": {
        "id": "view-in-github",
        "colab_type": "text"
      },
      "source": [
        "<a href=\"https://colab.research.google.com/github/Tasnim-Jahan/Thyroid-disease-prediction-using-Machine-Learning/blob/main/Thyroid_disease_prediction_using_Machine_Learning4.ipynb\" target=\"_parent\"><img src=\"https://colab.research.google.com/assets/colab-badge.svg\" alt=\"Open In Colab\"/></a>"
      ]
    },
    {
      "cell_type": "markdown",
      "source": [
        "**Import Libraries**"
      ],
      "metadata": {
        "id": "XQWbzBSxoWeT"
      }
    },
    {
      "cell_type": "code",
      "execution_count": 135,
      "metadata": {
        "id": "dS94sypLlZ9L"
      },
      "outputs": [],
      "source": [
        "#pandas\n",
        "import pandas as pd\n",
        "\n",
        "#numpy\n",
        "import numpy as np\n",
        "\n",
        "#matplotlib\n",
        "import matplotlib.pyplot as plt\n",
        "\n",
        "#seaborn\n",
        "import seaborn as sns\n",
        "\n",
        "#sklearn\n",
        "from sklearn.linear_model import LogisticRegression\n",
        "from sklearn.svm import SVC\n",
        "from sklearn.tree import DecisionTreeClassifier\n",
        "from sklearn.metrics import classification_report,f1_score\n",
        "from sklearn.ensemble import RandomForestClassifier\n",
        "from sklearn.preprocessing import LabelEncoder\n",
        "from imblearn.over_sampling import SMOTE\n",
        "from sklearn.model_selection import train_test_split\n",
        "from sklearn.preprocessing import MinMaxScaler\n",
        "import pickle\n",
        "import warnings\n",
        "warnings.filterwarnings('ignore')"
      ]
    },
    {
      "cell_type": "markdown",
      "source": [
        "\n",
        "Read data from csv"
      ],
      "metadata": {
        "id": "pLYMjip9okUd"
      }
    },
    {
      "cell_type": "code",
      "source": [
        "thyroid_df=pd.read_csv('/content/hypothyroid.csv')"
      ],
      "metadata": {
        "id": "M1wNG0SbmwUQ"
      },
      "execution_count": 136,
      "outputs": []
    },
    {
      "cell_type": "code",
      "source": [
        "thyroid_df.head()"
      ],
      "metadata": {
        "colab": {
          "base_uri": "https://localhost:8080/",
          "height": 334
        },
        "id": "hVHxnoPJm8t5",
        "outputId": "5f0c1211-7998-4916-d4f3-1e10514632b1"
      },
      "execution_count": 137,
      "outputs": [
        {
          "output_type": "execute_result",
          "data": {
            "text/plain": [
              "  age sex on thyroxine query on thyroxine on antithyroid medication sick  \\\n",
              "0  41   F            f                  f                         f    f   \n",
              "1  23   F            f                  f                         f    f   \n",
              "2  46   M            f                  f                         f    f   \n",
              "3  70   F            t                  f                         f    f   \n",
              "4  70   F            f                  f                         f    f   \n",
              "\n",
              "  pregnant thyroid surgery I131 treatment query hypothyroid  ... TT4 measured  \\\n",
              "0        f               f              f                 f  ...            t   \n",
              "1        f               f              f                 f  ...            t   \n",
              "2        f               f              f                 f  ...            t   \n",
              "3        f               f              f                 f  ...            t   \n",
              "4        f               f              f                 f  ...            t   \n",
              "\n",
              "   TT4 T4U measured   T4U FTI measured  FTI TBG measured TBG referral source  \\\n",
              "0  125            t  1.14            t  109            f   ?            SVHC   \n",
              "1  102            f     ?            f    ?            f   ?           other   \n",
              "2  109            t  0.91            t  120            f   ?           other   \n",
              "3  175            f     ?            f    ?            f   ?           other   \n",
              "4   61            t  0.87            t   70            f   ?             SVI   \n",
              "\n",
              "  binaryClass  \n",
              "0           P  \n",
              "1           P  \n",
              "2           P  \n",
              "3           P  \n",
              "4           P  \n",
              "\n",
              "[5 rows x 30 columns]"
            ],
            "text/html": [
              "\n",
              "  <div id=\"df-57ef457f-afbe-40da-af39-01d4ad66f8c7\">\n",
              "    <div class=\"colab-df-container\">\n",
              "      <div>\n",
              "<style scoped>\n",
              "    .dataframe tbody tr th:only-of-type {\n",
              "        vertical-align: middle;\n",
              "    }\n",
              "\n",
              "    .dataframe tbody tr th {\n",
              "        vertical-align: top;\n",
              "    }\n",
              "\n",
              "    .dataframe thead th {\n",
              "        text-align: right;\n",
              "    }\n",
              "</style>\n",
              "<table border=\"1\" class=\"dataframe\">\n",
              "  <thead>\n",
              "    <tr style=\"text-align: right;\">\n",
              "      <th></th>\n",
              "      <th>age</th>\n",
              "      <th>sex</th>\n",
              "      <th>on thyroxine</th>\n",
              "      <th>query on thyroxine</th>\n",
              "      <th>on antithyroid medication</th>\n",
              "      <th>sick</th>\n",
              "      <th>pregnant</th>\n",
              "      <th>thyroid surgery</th>\n",
              "      <th>I131 treatment</th>\n",
              "      <th>query hypothyroid</th>\n",
              "      <th>...</th>\n",
              "      <th>TT4 measured</th>\n",
              "      <th>TT4</th>\n",
              "      <th>T4U measured</th>\n",
              "      <th>T4U</th>\n",
              "      <th>FTI measured</th>\n",
              "      <th>FTI</th>\n",
              "      <th>TBG measured</th>\n",
              "      <th>TBG</th>\n",
              "      <th>referral source</th>\n",
              "      <th>binaryClass</th>\n",
              "    </tr>\n",
              "  </thead>\n",
              "  <tbody>\n",
              "    <tr>\n",
              "      <th>0</th>\n",
              "      <td>41</td>\n",
              "      <td>F</td>\n",
              "      <td>f</td>\n",
              "      <td>f</td>\n",
              "      <td>f</td>\n",
              "      <td>f</td>\n",
              "      <td>f</td>\n",
              "      <td>f</td>\n",
              "      <td>f</td>\n",
              "      <td>f</td>\n",
              "      <td>...</td>\n",
              "      <td>t</td>\n",
              "      <td>125</td>\n",
              "      <td>t</td>\n",
              "      <td>1.14</td>\n",
              "      <td>t</td>\n",
              "      <td>109</td>\n",
              "      <td>f</td>\n",
              "      <td>?</td>\n",
              "      <td>SVHC</td>\n",
              "      <td>P</td>\n",
              "    </tr>\n",
              "    <tr>\n",
              "      <th>1</th>\n",
              "      <td>23</td>\n",
              "      <td>F</td>\n",
              "      <td>f</td>\n",
              "      <td>f</td>\n",
              "      <td>f</td>\n",
              "      <td>f</td>\n",
              "      <td>f</td>\n",
              "      <td>f</td>\n",
              "      <td>f</td>\n",
              "      <td>f</td>\n",
              "      <td>...</td>\n",
              "      <td>t</td>\n",
              "      <td>102</td>\n",
              "      <td>f</td>\n",
              "      <td>?</td>\n",
              "      <td>f</td>\n",
              "      <td>?</td>\n",
              "      <td>f</td>\n",
              "      <td>?</td>\n",
              "      <td>other</td>\n",
              "      <td>P</td>\n",
              "    </tr>\n",
              "    <tr>\n",
              "      <th>2</th>\n",
              "      <td>46</td>\n",
              "      <td>M</td>\n",
              "      <td>f</td>\n",
              "      <td>f</td>\n",
              "      <td>f</td>\n",
              "      <td>f</td>\n",
              "      <td>f</td>\n",
              "      <td>f</td>\n",
              "      <td>f</td>\n",
              "      <td>f</td>\n",
              "      <td>...</td>\n",
              "      <td>t</td>\n",
              "      <td>109</td>\n",
              "      <td>t</td>\n",
              "      <td>0.91</td>\n",
              "      <td>t</td>\n",
              "      <td>120</td>\n",
              "      <td>f</td>\n",
              "      <td>?</td>\n",
              "      <td>other</td>\n",
              "      <td>P</td>\n",
              "    </tr>\n",
              "    <tr>\n",
              "      <th>3</th>\n",
              "      <td>70</td>\n",
              "      <td>F</td>\n",
              "      <td>t</td>\n",
              "      <td>f</td>\n",
              "      <td>f</td>\n",
              "      <td>f</td>\n",
              "      <td>f</td>\n",
              "      <td>f</td>\n",
              "      <td>f</td>\n",
              "      <td>f</td>\n",
              "      <td>...</td>\n",
              "      <td>t</td>\n",
              "      <td>175</td>\n",
              "      <td>f</td>\n",
              "      <td>?</td>\n",
              "      <td>f</td>\n",
              "      <td>?</td>\n",
              "      <td>f</td>\n",
              "      <td>?</td>\n",
              "      <td>other</td>\n",
              "      <td>P</td>\n",
              "    </tr>\n",
              "    <tr>\n",
              "      <th>4</th>\n",
              "      <td>70</td>\n",
              "      <td>F</td>\n",
              "      <td>f</td>\n",
              "      <td>f</td>\n",
              "      <td>f</td>\n",
              "      <td>f</td>\n",
              "      <td>f</td>\n",
              "      <td>f</td>\n",
              "      <td>f</td>\n",
              "      <td>f</td>\n",
              "      <td>...</td>\n",
              "      <td>t</td>\n",
              "      <td>61</td>\n",
              "      <td>t</td>\n",
              "      <td>0.87</td>\n",
              "      <td>t</td>\n",
              "      <td>70</td>\n",
              "      <td>f</td>\n",
              "      <td>?</td>\n",
              "      <td>SVI</td>\n",
              "      <td>P</td>\n",
              "    </tr>\n",
              "  </tbody>\n",
              "</table>\n",
              "<p>5 rows × 30 columns</p>\n",
              "</div>\n",
              "      <button class=\"colab-df-convert\" onclick=\"convertToInteractive('df-57ef457f-afbe-40da-af39-01d4ad66f8c7')\"\n",
              "              title=\"Convert this dataframe to an interactive table.\"\n",
              "              style=\"display:none;\">\n",
              "        \n",
              "  <svg xmlns=\"http://www.w3.org/2000/svg\" height=\"24px\"viewBox=\"0 0 24 24\"\n",
              "       width=\"24px\">\n",
              "    <path d=\"M0 0h24v24H0V0z\" fill=\"none\"/>\n",
              "    <path d=\"M18.56 5.44l.94 2.06.94-2.06 2.06-.94-2.06-.94-.94-2.06-.94 2.06-2.06.94zm-11 1L8.5 8.5l.94-2.06 2.06-.94-2.06-.94L8.5 2.5l-.94 2.06-2.06.94zm10 10l.94 2.06.94-2.06 2.06-.94-2.06-.94-.94-2.06-.94 2.06-2.06.94z\"/><path d=\"M17.41 7.96l-1.37-1.37c-.4-.4-.92-.59-1.43-.59-.52 0-1.04.2-1.43.59L10.3 9.45l-7.72 7.72c-.78.78-.78 2.05 0 2.83L4 21.41c.39.39.9.59 1.41.59.51 0 1.02-.2 1.41-.59l7.78-7.78 2.81-2.81c.8-.78.8-2.07 0-2.86zM5.41 20L4 18.59l7.72-7.72 1.47 1.35L5.41 20z\"/>\n",
              "  </svg>\n",
              "      </button>\n",
              "      \n",
              "  <style>\n",
              "    .colab-df-container {\n",
              "      display:flex;\n",
              "      flex-wrap:wrap;\n",
              "      gap: 12px;\n",
              "    }\n",
              "\n",
              "    .colab-df-convert {\n",
              "      background-color: #E8F0FE;\n",
              "      border: none;\n",
              "      border-radius: 50%;\n",
              "      cursor: pointer;\n",
              "      display: none;\n",
              "      fill: #1967D2;\n",
              "      height: 32px;\n",
              "      padding: 0 0 0 0;\n",
              "      width: 32px;\n",
              "    }\n",
              "\n",
              "    .colab-df-convert:hover {\n",
              "      background-color: #E2EBFA;\n",
              "      box-shadow: 0px 1px 2px rgba(60, 64, 67, 0.3), 0px 1px 3px 1px rgba(60, 64, 67, 0.15);\n",
              "      fill: #174EA6;\n",
              "    }\n",
              "\n",
              "    [theme=dark] .colab-df-convert {\n",
              "      background-color: #3B4455;\n",
              "      fill: #D2E3FC;\n",
              "    }\n",
              "\n",
              "    [theme=dark] .colab-df-convert:hover {\n",
              "      background-color: #434B5C;\n",
              "      box-shadow: 0px 1px 3px 1px rgba(0, 0, 0, 0.15);\n",
              "      filter: drop-shadow(0px 1px 2px rgba(0, 0, 0, 0.3));\n",
              "      fill: #FFFFFF;\n",
              "    }\n",
              "  </style>\n",
              "\n",
              "      <script>\n",
              "        const buttonEl =\n",
              "          document.querySelector('#df-57ef457f-afbe-40da-af39-01d4ad66f8c7 button.colab-df-convert');\n",
              "        buttonEl.style.display =\n",
              "          google.colab.kernel.accessAllowed ? 'block' : 'none';\n",
              "\n",
              "        async function convertToInteractive(key) {\n",
              "          const element = document.querySelector('#df-57ef457f-afbe-40da-af39-01d4ad66f8c7');\n",
              "          const dataTable =\n",
              "            await google.colab.kernel.invokeFunction('convertToInteractive',\n",
              "                                                     [key], {});\n",
              "          if (!dataTable) return;\n",
              "\n",
              "          const docLinkHtml = 'Like what you see? Visit the ' +\n",
              "            '<a target=\"_blank\" href=https://colab.research.google.com/notebooks/data_table.ipynb>data table notebook</a>'\n",
              "            + ' to learn more about interactive tables.';\n",
              "          element.innerHTML = '';\n",
              "          dataTable['output_type'] = 'display_data';\n",
              "          await google.colab.output.renderOutput(dataTable, element);\n",
              "          const docLink = document.createElement('div');\n",
              "          docLink.innerHTML = docLinkHtml;\n",
              "          element.appendChild(docLink);\n",
              "        }\n",
              "      </script>\n",
              "    </div>\n",
              "  </div>\n",
              "  "
            ]
          },
          "metadata": {},
          "execution_count": 137
        }
      ]
    },
    {
      "cell_type": "markdown",
      "source": [
        "Data Cleaning"
      ],
      "metadata": {
        "id": "hKh3LEW7oxbX"
      }
    },
    {
      "cell_type": "code",
      "source": [
        "thyroid_df.rename(columns={'binaryClass':'Label'},inplace=True)"
      ],
      "metadata": {
        "id": "L47c_QZAm-E6"
      },
      "execution_count": 138,
      "outputs": []
    },
    {
      "cell_type": "code",
      "source": [
        "thyroid_df.replace('?',np.nan,inplace=True)"
      ],
      "metadata": {
        "id": "WoNgVsVspClO"
      },
      "execution_count": 139,
      "outputs": []
    },
    {
      "cell_type": "code",
      "source": [
        "thyroid_df.drop(['T3 measured','TSH measured','TT4 measured','T4U measured','FTI measured','TBG measured','TBG','referral source','on thyroxine','query on thyroxine','on antithyroid medication','query hypothyroid', 'query hyperthyroid'],axis=1,inplace=True)"
      ],
      "metadata": {
        "id": "KZmlEsuspSq9"
      },
      "execution_count": 140,
      "outputs": []
    },
    {
      "cell_type": "code",
      "source": [
        "thyroid_df.info()"
      ],
      "metadata": {
        "colab": {
          "base_uri": "https://localhost:8080/"
        },
        "id": "S67VeAJOpXSU",
        "outputId": "c324d500-fc83-4a73-d8ca-59e91b481862"
      },
      "execution_count": 141,
      "outputs": [
        {
          "output_type": "stream",
          "name": "stdout",
          "text": [
            "<class 'pandas.core.frame.DataFrame'>\n",
            "RangeIndex: 3772 entries, 0 to 3771\n",
            "Data columns (total 17 columns):\n",
            " #   Column           Non-Null Count  Dtype \n",
            "---  ------           --------------  ----- \n",
            " 0   age              3771 non-null   object\n",
            " 1   sex              3622 non-null   object\n",
            " 2   sick             3772 non-null   object\n",
            " 3   pregnant         3772 non-null   object\n",
            " 4   thyroid surgery  3772 non-null   object\n",
            " 5   I131 treatment   3772 non-null   object\n",
            " 6   lithium          3772 non-null   object\n",
            " 7   goitre           3772 non-null   object\n",
            " 8   tumor            3772 non-null   object\n",
            " 9   hypopituitary    3772 non-null   object\n",
            " 10  psych            3772 non-null   object\n",
            " 11  TSH              3403 non-null   object\n",
            " 12  T3               3003 non-null   object\n",
            " 13  TT4              3541 non-null   object\n",
            " 14  T4U              3385 non-null   object\n",
            " 15  FTI              3387 non-null   object\n",
            " 16  Label            3772 non-null   object\n",
            "dtypes: object(17)\n",
            "memory usage: 501.1+ KB\n"
          ]
        }
      ]
    },
    {
      "cell_type": "code",
      "source": [
        "thyroid_df['thyroid surgery'].value_counts()"
      ],
      "metadata": {
        "colab": {
          "base_uri": "https://localhost:8080/"
        },
        "id": "8fsF7vdTpq64",
        "outputId": "05ec6a47-0159-4e45-8cba-964d749f107e"
      },
      "execution_count": 142,
      "outputs": [
        {
          "output_type": "execute_result",
          "data": {
            "text/plain": [
              "f    3719\n",
              "t      53\n",
              "Name: thyroid surgery, dtype: int64"
            ]
          },
          "metadata": {},
          "execution_count": 142
        }
      ]
    },
    {
      "cell_type": "code",
      "source": [
        "cols = ['age','FTI','TSH','T3','TT4','T4U']\n",
        "for i in cols:\n",
        "    thyroid_df[i] = pd.to_numeric(thyroid_df[i])"
      ],
      "metadata": {
        "id": "wvJ3oigbpyfE"
      },
      "execution_count": 143,
      "outputs": []
    },
    {
      "cell_type": "code",
      "source": [
        "thyroid_df.info()"
      ],
      "metadata": {
        "colab": {
          "base_uri": "https://localhost:8080/"
        },
        "id": "_7S9SqhoqNyv",
        "outputId": "286b0fda-2f22-4658-f929-404e084957c7"
      },
      "execution_count": 144,
      "outputs": [
        {
          "output_type": "stream",
          "name": "stdout",
          "text": [
            "<class 'pandas.core.frame.DataFrame'>\n",
            "RangeIndex: 3772 entries, 0 to 3771\n",
            "Data columns (total 17 columns):\n",
            " #   Column           Non-Null Count  Dtype  \n",
            "---  ------           --------------  -----  \n",
            " 0   age              3771 non-null   float64\n",
            " 1   sex              3622 non-null   object \n",
            " 2   sick             3772 non-null   object \n",
            " 3   pregnant         3772 non-null   object \n",
            " 4   thyroid surgery  3772 non-null   object \n",
            " 5   I131 treatment   3772 non-null   object \n",
            " 6   lithium          3772 non-null   object \n",
            " 7   goitre           3772 non-null   object \n",
            " 8   tumor            3772 non-null   object \n",
            " 9   hypopituitary    3772 non-null   object \n",
            " 10  psych            3772 non-null   object \n",
            " 11  TSH              3403 non-null   float64\n",
            " 12  T3               3003 non-null   float64\n",
            " 13  TT4              3541 non-null   float64\n",
            " 14  T4U              3385 non-null   float64\n",
            " 15  FTI              3387 non-null   float64\n",
            " 16  Label            3772 non-null   object \n",
            "dtypes: float64(6), object(11)\n",
            "memory usage: 501.1+ KB\n"
          ]
        }
      ]
    },
    {
      "cell_type": "markdown",
      "source": [
        "Handle Missing Values"
      ],
      "metadata": {
        "id": "kz2zmcGkqvSL"
      }
    },
    {
      "cell_type": "code",
      "source": [
        "thyroid_df.isnull().sum()"
      ],
      "metadata": {
        "colab": {
          "base_uri": "https://localhost:8080/"
        },
        "id": "S7IqpVJoqp8S",
        "outputId": "3e08d719-8ed0-4962-be29-bdad39a01993"
      },
      "execution_count": 145,
      "outputs": [
        {
          "output_type": "execute_result",
          "data": {
            "text/plain": [
              "age                  1\n",
              "sex                150\n",
              "sick                 0\n",
              "pregnant             0\n",
              "thyroid surgery      0\n",
              "I131 treatment       0\n",
              "lithium              0\n",
              "goitre               0\n",
              "tumor                0\n",
              "hypopituitary        0\n",
              "psych                0\n",
              "TSH                369\n",
              "T3                 769\n",
              "TT4                231\n",
              "T4U                387\n",
              "FTI                385\n",
              "Label                0\n",
              "dtype: int64"
            ]
          },
          "metadata": {},
          "execution_count": 145
        }
      ]
    },
    {
      "cell_type": "code",
      "source": [
        "miss_cols = ['FTI','TSH','T3','TT4','T4U']\n",
        "for i in miss_cols:\n",
        "    thyroid_df[i] = thyroid_df[i].fillna(thyroid_df[i].mean())"
      ],
      "metadata": {
        "id": "EN4k0SQLqxHx"
      },
      "execution_count": 146,
      "outputs": []
    },
    {
      "cell_type": "code",
      "source": [
        "thyroid_df.dropna(inplace=True)"
      ],
      "metadata": {
        "id": "5qN9JmBcrPyH"
      },
      "execution_count": 148,
      "outputs": []
    },
    {
      "cell_type": "code",
      "source": [
        "thyroid_df.isnull().sum()"
      ],
      "metadata": {
        "colab": {
          "base_uri": "https://localhost:8080/"
        },
        "id": "_x_FIR5wrUWG",
        "outputId": "855770d6-6bef-4e62-a0cb-aaa08a58a69a"
      },
      "execution_count": 149,
      "outputs": [
        {
          "output_type": "execute_result",
          "data": {
            "text/plain": [
              "age                0\n",
              "sex                0\n",
              "sick               0\n",
              "pregnant           0\n",
              "thyroid surgery    0\n",
              "I131 treatment     0\n",
              "lithium            0\n",
              "goitre             0\n",
              "tumor              0\n",
              "hypopituitary      0\n",
              "psych              0\n",
              "TSH                0\n",
              "T3                 0\n",
              "TT4                0\n",
              "T4U                0\n",
              "FTI                0\n",
              "Label              0\n",
              "dtype: int64"
            ]
          },
          "metadata": {},
          "execution_count": 149
        }
      ]
    },
    {
      "cell_type": "code",
      "source": [
        "thyroid_df = thyroid_df.drop(1364)"
      ],
      "metadata": {
        "id": "w6oYZlgbrYig"
      },
      "execution_count": 150,
      "outputs": []
    },
    {
      "cell_type": "code",
      "source": [
        "thyroid_df.TT4 = thyroid_df.TT4.astype(int)\n",
        "thyroid_df.FTI = thyroid_df.FTI.astype(int)\n",
        "thyroid_df.age = thyroid_df.age.astype(int)"
      ],
      "metadata": {
        "id": "kamEnYIrrdrX"
      },
      "execution_count": 151,
      "outputs": []
    },
    {
      "cell_type": "markdown",
      "source": [
        "EDA"
      ],
      "metadata": {
        "id": "960GM5SnrmYP"
      }
    },
    {
      "cell_type": "code",
      "source": [
        "sns.countplot(x='Label',data=thyroid_df)\n",
        "plt.title(\"Countplot for Target variable\")\n"
      ],
      "metadata": {
        "colab": {
          "base_uri": "https://localhost:8080/",
          "height": 312
        },
        "id": "jTsVfJpDriOQ",
        "outputId": "b91d4f73-56f5-4c8b-a292-005ca6da6742"
      },
      "execution_count": 152,
      "outputs": [
        {
          "output_type": "execute_result",
          "data": {
            "text/plain": [
              "Text(0.5, 1.0, 'Countplot for Target variable')"
            ]
          },
          "metadata": {},
          "execution_count": 152
        },
        {
          "output_type": "display_data",
          "data": {
            "text/plain": [
              "<Figure size 432x288 with 1 Axes>"
            ],
            "image/png": "[encoded data removed]"
          },
          "metadata": {
            "needs_background": "light"
          }
        }
      ]
    },
    {
      "cell_type": "code",
      "source": [
        "positive_df = thyroid_df[thyroid_df.Label=='P']"
      ],
      "metadata": {
        "id": "SPlN55G6rl8L"
      },
      "execution_count": 92,
      "outputs": []
    },
    {
      "cell_type": "code",
      "source": [
        "plt.figure(figsize=(9,6))\n",
        "sns.histplot(x='age',data=positive_df,color='brown', bins = 30, kde = True)\n",
        "plt.title(\"Distribution of Positive Class Based on Age\",{'fontsize':20});"
      ],
      "metadata": {
        "colab": {
          "base_uri": "https://localhost:8080/",
          "height": 409
        },
        "id": "LTMTRIcqrxs_",
        "outputId": "d994bb49-8784-4eaa-e4d6-6ca88d7b7ab6"
      },
      "execution_count": 176,
      "outputs": [
        {
          "output_type": "display_data",
          "data": {
            "text/plain": [
              "<Figure size 648x432 with 1 Axes>"
            ],
            "image/png": "[encoded data removed]"
          },
          "metadata": {
            "needs_background": "light"
          }
        }
      ]
    },
    {
      "cell_type": "code",
      "source": [
        "plt.figure(figsize=(8,8))\n",
        "plt.pie(x=positive_df.sex.value_counts(),\n",
        "        labels=['Female','Male'],\n",
        "        startangle = 90,\n",
        "        colors=['blue','orange'],\n",
        "        autopct='%.2f'\n",
        "       );\n",
        "plt.legend();"
      ],
      "metadata": {
        "colab": {
          "base_uri": "https://localhost:8080/",
          "height": 466
        },
        "id": "MeJcnVzkr1ao",
        "outputId": "59a303d4-32df-4ac9-dc12-d877e73fad58"
      },
      "execution_count": 95,
      "outputs": [
        {
          "output_type": "display_data",
          "data": {
            "text/plain": [
              "<Figure size 576x576 with 1 Axes>"
            ],
            "image/png": "[encoded data removed]"
          },
          "metadata": {}
        }
      ]
    },
    {
      "cell_type": "markdown",
      "source": [
        "Inference :\n",
        "Female patients who has disease is greater than male patients."
      ],
      "metadata": {
        "id": "T45W76NLr_E2"
      }
    },
    {
      "cell_type": "code",
      "source": [
        "plt.figure(figsize=(8,8))\n",
        "plt.pie(x=positive_df.sick.value_counts(),\n",
        "        labels=['Sick','Well'],\n",
        "        startangle = 20,\n",
        "        colors=['red','gray'],\n",
        "        autopct='%.2f',\n",
        "        explode=[0,0.2]\n",
        "       );\n",
        "plt.legend();"
      ],
      "metadata": {
        "colab": {
          "base_uri": "https://localhost:8080/",
          "height": 466
        },
        "id": "J7c91lWTsCTR",
        "outputId": "44210ec1-411c-49ac-c4dc-7d6652195439"
      },
      "execution_count": 96,
      "outputs": [
        {
          "output_type": "display_data",
          "data": {
            "text/plain": [
              "<Figure size 576x576 with 1 Axes>"
            ],
            "image/png": "[encoded data removed]"
          },
          "metadata": {}
        }
      ]
    },
    {
      "cell_type": "code",
      "source": [
        "plt.figure(figsize=(8,8))\n",
        "plt.pie(x=positive_df.pregnant.value_counts(),\n",
        "        labels=['pregnant','not pregnant'],\n",
        "        startangle = 20,\n",
        "        colors=['red','gray'],\n",
        "        autopct='%.2f',\n",
        "        explode=[0,0.2]\n",
        "       );\n",
        "plt.legend();"
      ],
      "metadata": {
        "colab": {
          "base_uri": "https://localhost:8080/",
          "height": 466
        },
        "id": "wiIQvGA8OWwN",
        "outputId": "2f0f91f0-d9f1-4794-c294-999d4a1ffc29"
      },
      "execution_count": 97,
      "outputs": [
        {
          "output_type": "display_data",
          "data": {
            "text/plain": [
              "<Figure size 576x576 with 1 Axes>"
            ],
            "image/png": "[encoded data removed]"
          },
          "metadata": {}
        }
      ]
    },
    {
      "cell_type": "code",
      "source": [
        "plt.figure(figsize=(8,8))\n",
        "plt.pie(x=positive_df.lithium.value_counts(),\n",
        "        labels=['lithium','not lithium'],\n",
        "        startangle = 20,\n",
        "        colors=['red','gray'],\n",
        "        autopct='%.2f',\n",
        "        explode=[0,0.2]\n",
        "       );\n",
        "plt.legend();"
      ],
      "metadata": {
        "colab": {
          "base_uri": "https://localhost:8080/",
          "height": 466
        },
        "id": "fMmIrARQOuoZ",
        "outputId": "5b70dd1a-c7b3-4129-b0b4-143e4d92db72"
      },
      "execution_count": 98,
      "outputs": [
        {
          "output_type": "display_data",
          "data": {
            "text/plain": [
              "<Figure size 576x576 with 1 Axes>"
            ],
            "image/png": "[encoded data removed]"
          },
          "metadata": {}
        }
      ]
    },
    {
      "cell_type": "code",
      "source": [
        "plt.figure(figsize=(8,8))\n",
        "plt.pie(x=positive_df.goitre.value_counts(),\n",
        "        labels=['goitre','no goitre'],\n",
        "        startangle = 20,\n",
        "        colors=['red','gray'],\n",
        "        autopct='%.2f',\n",
        "        explode=[0,0.2]\n",
        "       );\n",
        "plt.legend();"
      ],
      "metadata": {
        "colab": {
          "base_uri": "https://localhost:8080/",
          "height": 466
        },
        "id": "B5s8-Y0VXBdL",
        "outputId": "b37adf03-a2dc-438d-92c3-ec02ff476463"
      },
      "execution_count": 99,
      "outputs": [
        {
          "output_type": "display_data",
          "data": {
            "text/plain": [
              "<Figure size 576x576 with 1 Axes>"
            ],
            "image/png": "[encoded data removed]"
          },
          "metadata": {}
        }
      ]
    },
    {
      "cell_type": "code",
      "source": [
        "plt.figure(figsize=(8,8))\n",
        "plt.pie(x=positive_df.tumor.value_counts(),\n",
        "        labels=['tumor','no tumor'],\n",
        "        startangle = 20,\n",
        "        colors=['red','gray'],\n",
        "        autopct='%.2f',\n",
        "        explode=[0,0.2]\n",
        "       );\n",
        "plt.legend();"
      ],
      "metadata": {
        "colab": {
          "base_uri": "https://localhost:8080/",
          "height": 466
        },
        "id": "t9JqLGD8XPZ4",
        "outputId": "da94d574-c2a3-45f0-f787-522d0871ff5b"
      },
      "execution_count": 100,
      "outputs": [
        {
          "output_type": "display_data",
          "data": {
            "text/plain": [
              "<Figure size 576x576 with 1 Axes>"
            ],
            "image/png": "[encoded data removed]"
          },
          "metadata": {}
        }
      ]
    },
    {
      "cell_type": "code",
      "source": [
        "plt.figure(figsize=(8,8))\n",
        "plt.pie(x=positive_df.hypopituitary.value_counts(),\n",
        "        labels=['hypopituitary','no hypopituitary'],\n",
        "        startangle = 20,\n",
        "        colors=['red','gray'],\n",
        "        autopct='%.2f',\n",
        "        explode=[0,0.2]\n",
        "       );\n",
        "plt.legend();"
      ],
      "metadata": {
        "colab": {
          "base_uri": "https://localhost:8080/",
          "height": 466
        },
        "id": "nUk-RsI7X9UC",
        "outputId": "e8756ac5-0e0c-49a1-b2ef-cdc8da001069"
      },
      "execution_count": 101,
      "outputs": [
        {
          "output_type": "display_data",
          "data": {
            "text/plain": [
              "<Figure size 576x576 with 1 Axes>"
            ],
            "image/png": "[encoded data removed]"
          },
          "metadata": {}
        }
      ]
    },
    {
      "cell_type": "code",
      "source": [
        "plt.figure(figsize=(8,8))\n",
        "plt.pie(x=positive_df.psych.value_counts(),\n",
        "        labels=['psych','no psych'],\n",
        "        startangle = 20,\n",
        "        colors=['red','gray'],\n",
        "        autopct='%.2f',\n",
        "        explode=[0,0.2]\n",
        "       );\n",
        "plt.legend();"
      ],
      "metadata": {
        "colab": {
          "base_uri": "https://localhost:8080/",
          "height": 466
        },
        "id": "Ux667YOfd601",
        "outputId": "6d8098db-8135-4803-e57d-e354ff1833ce"
      },
      "execution_count": 102,
      "outputs": [
        {
          "output_type": "display_data",
          "data": {
            "text/plain": [
              "<Figure size 576x576 with 1 Axes>"
            ],
            "image/png": "[encoded data removed]"
          },
          "metadata": {}
        }
      ]
    },
    {
      "cell_type": "code",
      "source": [
        "X = thyroid_df.drop('Label',axis=1)\n",
        "y = thyroid_df.Label"
      ],
      "metadata": {
        "id": "uOYWTrlRsGz-"
      },
      "execution_count": 153,
      "outputs": []
    },
    {
      "cell_type": "markdown",
      "source": [
        "Transform non-numerical labels to numerical labels."
      ],
      "metadata": {
        "id": "IfzD2aK9sO6R"
      }
    },
    {
      "cell_type": "code",
      "source": [
        "s_encoder = LabelEncoder()\n",
        "si_encoder = LabelEncoder()\n",
        "preg_encoder = LabelEncoder()\n",
        "th_encoder = LabelEncoder()\n",
        "treat_encoder = LabelEncoder()\n",
        "lith_encoder = LabelEncoder()\n",
        "g_encoder= LabelEncoder()\n",
        "tu_encoder = LabelEncoder()\n",
        "hyp_encoder = LabelEncoder() \n",
        "psy_encoder = LabelEncoder()"
      ],
      "metadata": {
        "id": "l9yJmwmvsLGw"
      },
      "execution_count": 154,
      "outputs": []
    },
    {
      "cell_type": "code",
      "source": [
        "X['sex'] = s_encoder.fit_transform(X.sex)\n",
        "X['I131 treatment'] = treat_encoder.fit_transform(X['I131 treatment'])\n",
        "X['sick'] = si_encoder.fit_transform(X.sick)\n",
        "X['pregnant'] = preg_encoder.fit_transform(X.pregnant)\n",
        "X['thyroid surgery'] = th_encoder.fit_transform(X['thyroid surgery'])\n",
        "X['lithium'] = lith_encoder.fit_transform(X['lithium'])\n",
        "X['goitre'] = g_encoder.fit_transform(X['goitre'])\n",
        "X['tumor'] = tu_encoder.fit_transform(X['tumor'])\n",
        "X['hypopituitary'] = hyp_encoder.fit_transform(X['hypopituitary'])\n",
        "X['psych'] = psy_encoder.fit_transform(X['psych'])\n"
      ],
      "metadata": {
        "id": "DMLGEdrgsY9n"
      },
      "execution_count": 155,
      "outputs": []
    },
    {
      "cell_type": "code",
      "source": [
        "# output1 = open('sex_lbl.pkl', 'wb')\n",
        "# pickle.dump(s_encoder, output1)\n",
        "# output1.close()\n",
        "# output2 = open('surgery.pkl', 'wb')\n",
        "# pickle.dump(th_encoder, output2)\n",
        "# output2.close()"
      ],
      "metadata": {
        "id": "0az6ea5ZseYQ"
      },
      "execution_count": 156,
      "outputs": []
    },
    {
      "cell_type": "code",
      "source": [
        "def func(df):\n",
        "    if df == 'P':\n",
        "        return 1\n",
        "    else:\n",
        "        return 0"
      ],
      "metadata": {
        "id": "C3BxMDPIskKg"
      },
      "execution_count": 157,
      "outputs": []
    },
    {
      "cell_type": "code",
      "source": [
        "y = y.apply(func)"
      ],
      "metadata": {
        "id": "8cQlYtDdsoP-"
      },
      "execution_count": 158,
      "outputs": []
    },
    {
      "cell_type": "markdown",
      "source": [
        "Split original data into training data and testing data."
      ],
      "metadata": {
        "id": "qbI8ECkYswa-"
      }
    },
    {
      "cell_type": "code",
      "source": [
        "X_train,X_test,y_train,y_test = train_test_split(X,y,test_size=0.2,random_state=11)"
      ],
      "metadata": {
        "id": "df76XxxksszW"
      },
      "execution_count": 159,
      "outputs": []
    },
    {
      "cell_type": "markdown",
      "source": [
        "Handle Imbalance Data"
      ],
      "metadata": {
        "id": "szC0aL02t4KX"
      }
    },
    {
      "cell_type": "code",
      "source": [
        "smote = SMOTE(random_state=11)\n",
        "\n",
        "x_smote, y_smote = smote.fit_resample(X_train, y_train)"
      ],
      "metadata": {
        "id": "R4yI8X6dt7tp"
      },
      "execution_count": 160,
      "outputs": []
    },
    {
      "cell_type": "code",
      "source": [
        "print(\"Shape before the Oversampling : \",X_train.shape)\n",
        "print(\"Shape after the Oversampling : \",x_smote.shape)"
      ],
      "metadata": {
        "colab": {
          "base_uri": "https://localhost:8080/"
        },
        "id": "DQP5ygYBt0KG",
        "outputId": "b1103309-bdfd-475c-f835-161228dbd1fd"
      },
      "execution_count": 161,
      "outputs": [
        {
          "output_type": "stream",
          "name": "stdout",
          "text": [
            "Shape before the Oversampling :  (2896, 16)\n",
            "Shape after the Oversampling :  (5340, 16)\n"
          ]
        }
      ]
    },
    {
      "cell_type": "markdown",
      "source": [
        "Scaling (Normalization)"
      ],
      "metadata": {
        "id": "bW66ZBm0uMvn"
      }
    },
    {
      "cell_type": "code",
      "source": [
        "scalr = MinMaxScaler()\n",
        "x_smote.TT4 = scalr.fit_transform(x_smote[['TT4']])\n",
        "x_smote.age = scalr.fit_transform(x_smote[['age']])\n",
        "x_smote.FTI = scalr.fit_transform(x_smote[['FTI']])"
      ],
      "metadata": {
        "id": "F2c_TR__uIFF"
      },
      "execution_count": 162,
      "outputs": []
    },
    {
      "cell_type": "markdown",
      "source": [
        "# with open('scalar.pkl','wb') as f:\n",
        "#     pickle.dump(scalr,f)"
      ],
      "metadata": {
        "id": "OK0_Fb31uWEE"
      }
    },
    {
      "cell_type": "code",
      "source": [
        "X_test.TT4 = scalr.transform(X_test[['TT4']])\n",
        "X_test.age = scalr.transform(X_test[['age']])\n",
        "X_test.FTI = scalr.transform(X_test[['FTI']])"
      ],
      "metadata": {
        "id": "njYGZFm5uTA3"
      },
      "execution_count": 163,
      "outputs": []
    },
    {
      "cell_type": "markdown",
      "source": [
        "Build Models."
      ],
      "metadata": {
        "id": "dhVvScNhujtR"
      }
    },
    {
      "cell_type": "code",
      "source": [
        "models = {\n",
        "    DecisionTreeClassifier() :'Decision Tree Classifier',\n",
        "    LogisticRegression(max_iter=500):'Logistic Regression',\n",
        "    SVC():\"Support Vector Machine\",\n",
        "    RandomForestClassifier():'Random Forest'\n",
        "}\n",
        "for m in models.keys():\n",
        "    m.fit(x_smote,y_smote)\n",
        "for model,name in models.items():\n",
        "     print(f\"Accuracy Score for {name} is : \",model.score(X_test,y_test)*100,\"%\")"
      ],
      "metadata": {
        "colab": {
          "base_uri": "https://localhost:8080/"
        },
        "id": "wB053-YtuhGG",
        "outputId": "0994ca2c-467f-4183-d9ef-26e5064d4398"
      },
      "execution_count": 164,
      "outputs": [
        {
          "output_type": "stream",
          "name": "stdout",
          "text": [
            "Accuracy Score for Decision Tree Classifier is :  97.09944751381215 %\n",
            "Accuracy Score for Logistic Regression is :  98.20441988950276 %\n",
            "Accuracy Score for Support Vector Machine is :  98.34254143646409 %\n",
            "Accuracy Score for Random Forest is :  98.75690607734806 %\n"
          ]
        }
      ]
    },
    {
      "cell_type": "markdown",
      "source": [
        "**Inference :**"
      ],
      "metadata": {
        "id": "XZOGY_tuvKcE"
      }
    },
    {
      "cell_type": "markdown",
      "source": [
        "The most of patients who suffer from thyroid belonging to age group between 50-70"
      ],
      "metadata": {
        "id": "jVgIlQaYvKxP"
      }
    },
    {
      "cell_type": "markdown",
      "source": [
        "**Classification Report for each model.**"
      ],
      "metadata": {
        "id": "_fBMDb8PvLDr"
      }
    },
    {
      "cell_type": "code",
      "source": [
        "for model,name in models.items():\n",
        "    y_pred = model.predict(X_test)\n",
        "    print(f\"Classification Report for {name}\")  \n",
        "    print(\"----------------------------------------------------------\")\n",
        "    print(classification_report(y_test,y_pred))\n",
        "    print(\"----------------------------------------------------------\")"
      ],
      "metadata": {
        "colab": {
          "base_uri": "https://localhost:8080/"
        },
        "id": "N3evKUhNvYyv",
        "outputId": "44863030-8254-4ed5-93b5-da201231515b"
      },
      "execution_count": 165,
      "outputs": [
        {
          "output_type": "stream",
          "name": "stdout",
          "text": [
            "Classification Report for Decision Tree Classifier\n",
            "----------------------------------------------------------\n",
            "              precision    recall  f1-score   support\n",
            "\n",
            "           0       0.88      0.70      0.78        54\n",
            "           1       0.98      0.99      0.98       670\n",
            "\n",
            "    accuracy                           0.97       724\n",
            "   macro avg       0.93      0.85      0.88       724\n",
            "weighted avg       0.97      0.97      0.97       724\n",
            "\n",
            "----------------------------------------------------------\n",
            "Classification Report for Logistic Regression\n",
            "----------------------------------------------------------\n",
            "              precision    recall  f1-score   support\n",
            "\n",
            "           0       0.86      0.91      0.88        54\n",
            "           1       0.99      0.99      0.99       670\n",
            "\n",
            "    accuracy                           0.98       724\n",
            "   macro avg       0.93      0.95      0.94       724\n",
            "weighted avg       0.98      0.98      0.98       724\n",
            "\n",
            "----------------------------------------------------------\n",
            "Classification Report for Support Vector Machine\n",
            "----------------------------------------------------------\n",
            "              precision    recall  f1-score   support\n",
            "\n",
            "           0       0.83      0.98      0.90        54\n",
            "           1       1.00      0.98      0.99       670\n",
            "\n",
            "    accuracy                           0.98       724\n",
            "   macro avg       0.91      0.98      0.94       724\n",
            "weighted avg       0.99      0.98      0.98       724\n",
            "\n",
            "----------------------------------------------------------\n",
            "Classification Report for Random Forest\n",
            "----------------------------------------------------------\n",
            "              precision    recall  f1-score   support\n",
            "\n",
            "           0       0.92      0.91      0.92        54\n",
            "           1       0.99      0.99      0.99       670\n",
            "\n",
            "    accuracy                           0.99       724\n",
            "   macro avg       0.96      0.95      0.95       724\n",
            "weighted avg       0.99      0.99      0.99       724\n",
            "\n",
            "----------------------------------------------------------\n"
          ]
        }
      ]
    },
    {
      "cell_type": "code",
      "source": [
        "dtc = DecisionTreeClassifier()\n",
        "dtc.fit(x_smote,y_smote)\n",
        "dtc.score(X_test,y_test)"
      ],
      "metadata": {
        "colab": {
          "base_uri": "https://localhost:8080/"
        },
        "id": "heMBuRWTf-Or",
        "outputId": "99767320-7598-4b5b-9c57-9b925b69e16e"
      },
      "execution_count": 166,
      "outputs": [
        {
          "output_type": "execute_result",
          "data": {
            "text/plain": [
              "0.9751381215469613"
            ]
          },
          "metadata": {},
          "execution_count": 166
        }
      ]
    },
    {
      "cell_type": "code",
      "source": [
        "lr = LogisticRegression(max_iter=500)\n",
        "lr.fit(x_smote,y_smote)\n",
        "lr.score(X_test,y_test)"
      ],
      "metadata": {
        "colab": {
          "base_uri": "https://localhost:8080/"
        },
        "id": "Fw13KvCOf_g6",
        "outputId": "15ad78af-0914-498f-8b6d-00e33435f63c"
      },
      "execution_count": 167,
      "outputs": [
        {
          "output_type": "execute_result",
          "data": {
            "text/plain": [
              "0.9820441988950276"
            ]
          },
          "metadata": {},
          "execution_count": 167
        }
      ]
    },
    {
      "cell_type": "code",
      "source": [
        "svm = SVC()\n",
        "svm.fit(x_smote,y_smote)\n",
        "svm.score(X_test,y_test)"
      ],
      "metadata": {
        "colab": {
          "base_uri": "https://localhost:8080/"
        },
        "id": "D7nvwanbf_wG",
        "outputId": "ede4a91e-683a-4826-a6ef-07628b9ff214"
      },
      "execution_count": 168,
      "outputs": [
        {
          "output_type": "execute_result",
          "data": {
            "text/plain": [
              "0.9834254143646409"
            ]
          },
          "metadata": {},
          "execution_count": 168
        }
      ]
    },
    {
      "cell_type": "code",
      "source": [
        "rf = RandomForestClassifier()\n",
        "rf.fit(x_smote,y_smote)\n",
        "rf.score(X_test,y_test)"
      ],
      "metadata": {
        "colab": {
          "base_uri": "https://localhost:8080/"
        },
        "id": "_PrkJjSkvdLy",
        "outputId": "5ac72a6d-cdba-48fe-92b3-f35fd70dec1b"
      },
      "execution_count": 169,
      "outputs": [
        {
          "output_type": "execute_result",
          "data": {
            "text/plain": [
              "0.9903314917127072"
            ]
          },
          "metadata": {},
          "execution_count": 169
        }
      ]
    },
    {
      "cell_type": "code",
      "source": [
        "plt.figure(figsize=(8,8))\n",
        "feature_imp1 = rf.feature_importances_\n",
        "sns.barplot(x=feature_imp1, y=X.columns)\n",
        "# Add labels to your graph\n",
        "plt.xlabel('Scores')\n",
        "plt.ylabel('Features')\n",
        "plt.title(\"Visualization of Important Features For Random Forest \",{'fontsize':25})\n",
        "plt.show();"
      ],
      "metadata": {
        "colab": {
          "base_uri": "https://localhost:8080/",
          "height": 522
        },
        "id": "iRQv2lS5vlWj",
        "outputId": "6435fba1-167b-4a2f-a5e7-7fbbd4a7d4eb"
      },
      "execution_count": 170,
      "outputs": [
        {
          "output_type": "display_data",
          "data": {
            "text/plain": [
              "<Figure size 576x576 with 1 Axes>"
            ],
            "image/png": "[encoded data removed]"
          },
          "metadata": {
            "needs_background": "light"
          }
        }
      ]
    },
    {
      "cell_type": "code",
      "source": [
        "x_smote.drop(['sick', 'pregnant', 'I131 treatment',\n",
        "              'lithium', 'goitre', 'tumor', 'hypopituitary', 'psych'], axis=1, inplace=True)\n",
        "X_test.drop(['sick', 'pregnant', 'I131 treatment',\n",
        "              'lithium', 'goitre', 'tumor', 'hypopituitary', 'psych'], axis=1, inplace=True)"
      ],
      "metadata": {
        "id": "VMfs9Qk8vpuO"
      },
      "execution_count": 171,
      "outputs": []
    },
    {
      "cell_type": "code",
      "source": [
        "new_rf = RandomForestClassifier()\n",
        "new_rf.fit(x_smote,y_smote)\n",
        "new_rf.score(X_test,y_test)"
      ],
      "metadata": {
        "colab": {
          "base_uri": "https://localhost:8080/"
        },
        "id": "V3v9bitMvtKJ",
        "outputId": "d1a9eb98-ece2-4a81-c9b5-8023fca9db13"
      },
      "execution_count": 172,
      "outputs": [
        {
          "output_type": "execute_result",
          "data": {
            "text/plain": [
              "0.9848066298342542"
            ]
          },
          "metadata": {},
          "execution_count": 172
        }
      ]
    },
    {
      "cell_type": "markdown",
      "source": [
        "# with open('thyroid.pkl','wb') as f:\n",
        "#     pickle.dump(new_rf,f)"
      ],
      "metadata": {
        "id": "jyooW8qIvwG0"
      }
    },
    {
      "cell_type": "code",
      "source": [
        "thyroid_df.head()"
      ],
      "metadata": {
        "colab": {
          "base_uri": "https://localhost:8080/",
          "height": 206
        },
        "id": "yaEyxZITvyCa",
        "outputId": "331f143c-204c-49b8-9130-7586da36af59"
      },
      "execution_count": 173,
      "outputs": [
        {
          "output_type": "execute_result",
          "data": {
            "text/plain": [
              "   age sex sick pregnant thyroid surgery I131 treatment lithium goitre tumor  \\\n",
              "0   41   F    f        f               f              f       f      f     f   \n",
              "1   23   F    f        f               f              f       f      f     f   \n",
              "2   46   M    f        f               f              f       f      f     f   \n",
              "3   70   F    f        f               f              f       f      f     f   \n",
              "4   70   F    f        f               f              f       f      f     f   \n",
              "\n",
              "  hypopituitary psych   TSH      T3  TT4    T4U  FTI Label  \n",
              "0             f     f  1.30  2.5000  125  1.140  109     P  \n",
              "1             f     f  4.10  2.0000  102  0.995  110     P  \n",
              "2             f     f  0.98  2.0135  109  0.910  120     P  \n",
              "3             f     f  0.16  1.9000  175  0.995  110     P  \n",
              "4             f     f  0.72  1.2000   61  0.870   70     P  "
            ],
            "text/html": [
              "\n",
              "  <div id=\"df-99a7acfa-306b-450b-9499-caa9bc6a5257\">\n",
              "    <div class=\"colab-df-container\">\n",
              "      <div>\n",
              "<style scoped>\n",
              "    .dataframe tbody tr th:only-of-type {\n",
              "        vertical-align: middle;\n",
              "    }\n",
              "\n",
              "    .dataframe tbody tr th {\n",
              "        vertical-align: top;\n",
              "    }\n",
              "\n",
              "    .dataframe thead th {\n",
              "        text-align: right;\n",
              "    }\n",
              "</style>\n",
              "<table border=\"1\" class=\"dataframe\">\n",
              "  <thead>\n",
              "    <tr style=\"text-align: right;\">\n",
              "      <th></th>\n",
              "      <th>age</th>\n",
              "      <th>sex</th>\n",
              "      <th>sick</th>\n",
              "      <th>pregnant</th>\n",
              "      <th>thyroid surgery</th>\n",
              "      <th>I131 treatment</th>\n",
              "      <th>lithium</th>\n",
              "      <th>goitre</th>\n",
              "      <th>tumor</th>\n",
              "      <th>hypopituitary</th>\n",
              "      <th>psych</th>\n",
              "      <th>TSH</th>\n",
              "      <th>T3</th>\n",
              "      <th>TT4</th>\n",
              "      <th>T4U</th>\n",
              "      <th>FTI</th>\n",
              "      <th>Label</th>\n",
              "    </tr>\n",
              "  </thead>\n",
              "  <tbody>\n",
              "    <tr>\n",
              "      <th>0</th>\n",
              "      <td>41</td>\n",
              "      <td>F</td>\n",
              "      <td>f</td>\n",
              "      <td>f</td>\n",
              "      <td>f</td>\n",
              "      <td>f</td>\n",
              "      <td>f</td>\n",
              "      <td>f</td>\n",
              "      <td>f</td>\n",
              "      <td>f</td>\n",
              "      <td>f</td>\n",
              "      <td>1.30</td>\n",
              "      <td>2.5000</td>\n",
              "      <td>125</td>\n",
              "      <td>1.140</td>\n",
              "      <td>109</td>\n",
              "      <td>P</td>\n",
              "    </tr>\n",
              "    <tr>\n",
              "      <th>1</th>\n",
              "      <td>23</td>\n",
              "      <td>F</td>\n",
              "      <td>f</td>\n",
              "      <td>f</td>\n",
              "      <td>f</td>\n",
              "      <td>f</td>\n",
              "      <td>f</td>\n",
              "      <td>f</td>\n",
              "      <td>f</td>\n",
              "      <td>f</td>\n",
              "      <td>f</td>\n",
              "      <td>4.10</td>\n",
              "      <td>2.0000</td>\n",
              "      <td>102</td>\n",
              "      <td>0.995</td>\n",
              "      <td>110</td>\n",
              "      <td>P</td>\n",
              "    </tr>\n",
              "    <tr>\n",
              "      <th>2</th>\n",
              "      <td>46</td>\n",
              "      <td>M</td>\n",
              "      <td>f</td>\n",
              "      <td>f</td>\n",
              "      <td>f</td>\n",
              "      <td>f</td>\n",
              "      <td>f</td>\n",
              "      <td>f</td>\n",
              "      <td>f</td>\n",
              "      <td>f</td>\n",
              "      <td>f</td>\n",
              "      <td>0.98</td>\n",
              "      <td>2.0135</td>\n",
              "      <td>109</td>\n",
              "      <td>0.910</td>\n",
              "      <td>120</td>\n",
              "      <td>P</td>\n",
              "    </tr>\n",
              "    <tr>\n",
              "      <th>3</th>\n",
              "      <td>70</td>\n",
              "      <td>F</td>\n",
              "      <td>f</td>\n",
              "      <td>f</td>\n",
              "      <td>f</td>\n",
              "      <td>f</td>\n",
              "      <td>f</td>\n",
              "      <td>f</td>\n",
              "      <td>f</td>\n",
              "      <td>f</td>\n",
              "      <td>f</td>\n",
              "      <td>0.16</td>\n",
              "      <td>1.9000</td>\n",
              "      <td>175</td>\n",
              "      <td>0.995</td>\n",
              "      <td>110</td>\n",
              "      <td>P</td>\n",
              "    </tr>\n",
              "    <tr>\n",
              "      <th>4</th>\n",
              "      <td>70</td>\n",
              "      <td>F</td>\n",
              "      <td>f</td>\n",
              "      <td>f</td>\n",
              "      <td>f</td>\n",
              "      <td>f</td>\n",
              "      <td>f</td>\n",
              "      <td>f</td>\n",
              "      <td>f</td>\n",
              "      <td>f</td>\n",
              "      <td>f</td>\n",
              "      <td>0.72</td>\n",
              "      <td>1.2000</td>\n",
              "      <td>61</td>\n",
              "      <td>0.870</td>\n",
              "      <td>70</td>\n",
              "      <td>P</td>\n",
              "    </tr>\n",
              "  </tbody>\n",
              "</table>\n",
              "</div>\n",
              "      <button class=\"colab-df-convert\" onclick=\"convertToInteractive('df-99a7acfa-306b-450b-9499-caa9bc6a5257')\"\n",
              "              title=\"Convert this dataframe to an interactive table.\"\n",
              "              style=\"display:none;\">\n",
              "        \n",
              "  <svg xmlns=\"http://www.w3.org/2000/svg\" height=\"24px\"viewBox=\"0 0 24 24\"\n",
              "       width=\"24px\">\n",
              "    <path d=\"M0 0h24v24H0V0z\" fill=\"none\"/>\n",
              "    <path d=\"M18.56 5.44l.94 2.06.94-2.06 2.06-.94-2.06-.94-.94-2.06-.94 2.06-2.06.94zm-11 1L8.5 8.5l.94-2.06 2.06-.94-2.06-.94L8.5 2.5l-.94 2.06-2.06.94zm10 10l.94 2.06.94-2.06 2.06-.94-2.06-.94-.94-2.06-.94 2.06-2.06.94z\"/><path d=\"M17.41 7.96l-1.37-1.37c-.4-.4-.92-.59-1.43-.59-.52 0-1.04.2-1.43.59L10.3 9.45l-7.72 7.72c-.78.78-.78 2.05 0 2.83L4 21.41c.39.39.9.59 1.41.59.51 0 1.02-.2 1.41-.59l7.78-7.78 2.81-2.81c.8-.78.8-2.07 0-2.86zM5.41 20L4 18.59l7.72-7.72 1.47 1.35L5.41 20z\"/>\n",
              "  </svg>\n",
              "      </button>\n",
              "      \n",
              "  <style>\n",
              "    .colab-df-container {\n",
              "      display:flex;\n",
              "      flex-wrap:wrap;\n",
              "      gap: 12px;\n",
              "    }\n",
              "\n",
              "    .colab-df-convert {\n",
              "      background-color: #E8F0FE;\n",
              "      border: none;\n",
              "      border-radius: 50%;\n",
              "      cursor: pointer;\n",
              "      display: none;\n",
              "      fill: #1967D2;\n",
              "      height: 32px;\n",
              "      padding: 0 0 0 0;\n",
              "      width: 32px;\n",
              "    }\n",
              "\n",
              "    .colab-df-convert:hover {\n",
              "      background-color: #E2EBFA;\n",
              "      box-shadow: 0px 1px 2px rgba(60, 64, 67, 0.3), 0px 1px 3px 1px rgba(60, 64, 67, 0.15);\n",
              "      fill: #174EA6;\n",
              "    }\n",
              "\n",
              "    [theme=dark] .colab-df-convert {\n",
              "      background-color: #3B4455;\n",
              "      fill: #D2E3FC;\n",
              "    }\n",
              "\n",
              "    [theme=dark] .colab-df-convert:hover {\n",
              "      background-color: #434B5C;\n",
              "      box-shadow: 0px 1px 3px 1px rgba(0, 0, 0, 0.15);\n",
              "      filter: drop-shadow(0px 1px 2px rgba(0, 0, 0, 0.3));\n",
              "      fill: #FFFFFF;\n",
              "    }\n",
              "  </style>\n",
              "\n",
              "      <script>\n",
              "        const buttonEl =\n",
              "          document.querySelector('#df-99a7acfa-306b-450b-9499-caa9bc6a5257 button.colab-df-convert');\n",
              "        buttonEl.style.display =\n",
              "          google.colab.kernel.accessAllowed ? 'block' : 'none';\n",
              "\n",
              "        async function convertToInteractive(key) {\n",
              "          const element = document.querySelector('#df-99a7acfa-306b-450b-9499-caa9bc6a5257');\n",
              "          const dataTable =\n",
              "            await google.colab.kernel.invokeFunction('convertToInteractive',\n",
              "                                                     [key], {});\n",
              "          if (!dataTable) return;\n",
              "\n",
              "          const docLinkHtml = 'Like what you see? Visit the ' +\n",
              "            '<a target=\"_blank\" href=https://colab.research.google.com/notebooks/data_table.ipynb>data table notebook</a>'\n",
              "            + ' to learn more about interactive tables.';\n",
              "          element.innerHTML = '';\n",
              "          dataTable['output_type'] = 'display_data';\n",
              "          await google.colab.output.renderOutput(dataTable, element);\n",
              "          const docLink = document.createElement('div');\n",
              "          docLink.innerHTML = docLinkHtml;\n",
              "          element.appendChild(docLink);\n",
              "        }\n",
              "      </script>\n",
              "    </div>\n",
              "  </div>\n",
              "  "
            ]
          },
          "metadata": {},
          "execution_count": 173
        }
      ]
    },
    {
      "cell_type": "markdown",
      "source": [
        "**Conclusion:**"
      ],
      "metadata": {
        "id": "2T6YPr7TwLUs"
      }
    },
    {
      "cell_type": "markdown",
      "source": [
        "\n",
        "\n",
        "Thyroid disease is one of the diseases that afflict the world’s population, and the number of cases of this disease is increasing. Because of medical reports that show serious imbalances in thyroid diseases, ourstudy deals with the classification of thyroid disease between hyperthyroidism and hypothyroidism. This disease was classified using algorithms. Machine learning showed us good results using several algorithmsand was built in the form of two models."
      ],
      "metadata": {
        "id": "p4Fd15xbv5we"
      }
    },
    {
      "cell_type": "code",
      "source": [
        ""
      ],
      "metadata": {
        "id": "rjL0M8f2v9Ow"
      },
      "execution_count": 53,
      "outputs": []
    }
  ]
}