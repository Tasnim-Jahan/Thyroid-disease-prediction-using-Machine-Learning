{
  "nbformat": 4,
  "nbformat_minor": 0,
  "metadata": {
    "colab": {
      "name": "Thyroid disease prediction using Machine Learning2.ipynb",
      "provenance": [],
      "authorship_tag": "ABX9TyNQ4VexNXi+E5PuUeEL2LR/",
      "include_colab_link": true
    },
    "kernelspec": {
      "name": "python3",
      "display_name": "Python 3"
    },
    "language_info": {
      "name": "python"
    }
  },
  "cells": [
    {
      "cell_type": "markdown",
      "metadata": {
        "id": "view-in-github",
        "colab_type": "text"
      },
      "source": [
        "<a href=\"https://colab.research.google.com/github/Tasnim-Jahan/Thyroid-disease-prediction-using-Machine-Learning/blob/main/Thyroid_disease_prediction_using_Machine_Learning2.ipynb\" target=\"_parent\"><img src=\"https://colab.research.google.com/assets/colab-badge.svg\" alt=\"Open In Colab\"/></a>"
      ]
    },
    {
      "cell_type": "markdown",
      "source": [
        "**Import Libraries**"
      ],
      "metadata": {
        "id": "XQWbzBSxoWeT"
      }
    },
    {
      "cell_type": "code",
      "execution_count": 35,
      "metadata": {
        "id": "dS94sypLlZ9L"
      },
      "outputs": [],
      "source": [
        "#pandas\n",
        "import pandas as pd\n",
        "\n",
        "#numpy\n",
        "import numpy as np\n",
        "\n",
        "#matplotlib\n",
        "import matplotlib.pyplot as plt\n",
        "\n",
        "#seaborn\n",
        "import seaborn as sns\n",
        "\n",
        "#sklearn\n",
        "from sklearn.linear_model import LogisticRegression\n",
        "from sklearn.svm import SVC\n",
        "from sklearn.tree import DecisionTreeClassifier\n",
        "from sklearn.metrics import classification_report,f1_score\n",
        "from sklearn.ensemble import RandomForestClassifier\n",
        "from sklearn.preprocessing import LabelEncoder\n",
        "from imblearn.over_sampling import SMOTE\n",
        "from sklearn.model_selection import train_test_split\n",
        "from sklearn.preprocessing import MinMaxScaler\n",
        "import pickle\n",
        "import warnings\n",
        "warnings.filterwarnings('ignore')"
      ]
    },
    {
      "cell_type": "markdown",
      "source": [
        "\n",
        "Read data from csv"
      ],
      "metadata": {
        "id": "pLYMjip9okUd"
      }
    },
    {
      "cell_type": "code",
      "source": [
        "thyroid_df=pd.read_csv('/content/hypothyroid.csv')"
      ],
      "metadata": {
        "id": "M1wNG0SbmwUQ"
      },
      "execution_count": 3,
      "outputs": []
    },
    {
      "cell_type": "code",
      "source": [
        "thyroid_df.head()"
      ],
      "metadata": {
        "colab": {
          "base_uri": "https://localhost:8080/",
          "height": 334
        },
        "id": "hVHxnoPJm8t5",
        "outputId": "33926ca5-2d70-4697-803d-91a362bcc614"
      },
      "execution_count": 4,
      "outputs": [
        {
          "output_type": "execute_result",
          "data": {
            "text/plain": [
              "  age sex on thyroxine query on thyroxine on antithyroid medication sick  \\\n",
              "0  41   F            f                  f                         f    f   \n",
              "1  23   F            f                  f                         f    f   \n",
              "2  46   M            f                  f                         f    f   \n",
              "3  70   F            t                  f                         f    f   \n",
              "4  70   F            f                  f                         f    f   \n",
              "\n",
              "  pregnant thyroid surgery I131 treatment query hypothyroid  ... TT4 measured  \\\n",
              "0        f               f              f                 f  ...            t   \n",
              "1        f               f              f                 f  ...            t   \n",
              "2        f               f              f                 f  ...            t   \n",
              "3        f               f              f                 f  ...            t   \n",
              "4        f               f              f                 f  ...            t   \n",
              "\n",
              "   TT4 T4U measured   T4U FTI measured  FTI TBG measured TBG referral source  \\\n",
              "0  125            t  1.14            t  109            f   ?            SVHC   \n",
              "1  102            f     ?            f    ?            f   ?           other   \n",
              "2  109            t  0.91            t  120            f   ?           other   \n",
              "3  175            f     ?            f    ?            f   ?           other   \n",
              "4   61            t  0.87            t   70            f   ?             SVI   \n",
              "\n",
              "  binaryClass  \n",
              "0           P  \n",
              "1           P  \n",
              "2           P  \n",
              "3           P  \n",
              "4           P  \n",
              "\n",
              "[5 rows x 30 columns]"
            ],
            "text/html": [
              "\n",
              "  <div id=\"df-f3eb0230-d9f6-4a5a-8da1-32496b840082\">\n",
              "    <div class=\"colab-df-container\">\n",
              "      <div>\n",
              "<style scoped>\n",
              "    .dataframe tbody tr th:only-of-type {\n",
              "        vertical-align: middle;\n",
              "    }\n",
              "\n",
              "    .dataframe tbody tr th {\n",
              "        vertical-align: top;\n",
              "    }\n",
              "\n",
              "    .dataframe thead th {\n",
              "        text-align: right;\n",
              "    }\n",
              "</style>\n",
              "<table border=\"1\" class=\"dataframe\">\n",
              "  <thead>\n",
              "    <tr style=\"text-align: right;\">\n",
              "      <th></th>\n",
              "      <th>age</th>\n",
              "      <th>sex</th>\n",
              "      <th>on thyroxine</th>\n",
              "      <th>query on thyroxine</th>\n",
              "      <th>on antithyroid medication</th>\n",
              "      <th>sick</th>\n",
              "      <th>pregnant</th>\n",
              "      <th>thyroid surgery</th>\n",
              "      <th>I131 treatment</th>\n",
              "      <th>query hypothyroid</th>\n",
              "      <th>...</th>\n",
              "      <th>TT4 measured</th>\n",
              "      <th>TT4</th>\n",
              "      <th>T4U measured</th>\n",
              "      <th>T4U</th>\n",
              "      <th>FTI measured</th>\n",
              "      <th>FTI</th>\n",
              "      <th>TBG measured</th>\n",
              "      <th>TBG</th>\n",
              "      <th>referral source</th>\n",
              "      <th>binaryClass</th>\n",
              "    </tr>\n",
              "  </thead>\n",
              "  <tbody>\n",
              "    <tr>\n",
              "      <th>0</th>\n",
              "      <td>41</td>\n",
              "      <td>F</td>\n",
              "      <td>f</td>\n",
              "      <td>f</td>\n",
              "      <td>f</td>\n",
              "      <td>f</td>\n",
              "      <td>f</td>\n",
              "      <td>f</td>\n",
              "      <td>f</td>\n",
              "      <td>f</td>\n",
              "      <td>...</td>\n",
              "      <td>t</td>\n",
              "      <td>125</td>\n",
              "      <td>t</td>\n",
              "      <td>1.14</td>\n",
              "      <td>t</td>\n",
              "      <td>109</td>\n",
              "      <td>f</td>\n",
              "      <td>?</td>\n",
              "      <td>SVHC</td>\n",
              "      <td>P</td>\n",
              "    </tr>\n",
              "    <tr>\n",
              "      <th>1</th>\n",
              "      <td>23</td>\n",
              "      <td>F</td>\n",
              "      <td>f</td>\n",
              "      <td>f</td>\n",
              "      <td>f</td>\n",
              "      <td>f</td>\n",
              "      <td>f</td>\n",
              "      <td>f</td>\n",
              "      <td>f</td>\n",
              "      <td>f</td>\n",
              "      <td>...</td>\n",
              "      <td>t</td>\n",
              "      <td>102</td>\n",
              "      <td>f</td>\n",
              "      <td>?</td>\n",
              "      <td>f</td>\n",
              "      <td>?</td>\n",
              "      <td>f</td>\n",
              "      <td>?</td>\n",
              "      <td>other</td>\n",
              "      <td>P</td>\n",
              "    </tr>\n",
              "    <tr>\n",
              "      <th>2</th>\n",
              "      <td>46</td>\n",
              "      <td>M</td>\n",
              "      <td>f</td>\n",
              "      <td>f</td>\n",
              "      <td>f</td>\n",
              "      <td>f</td>\n",
              "      <td>f</td>\n",
              "      <td>f</td>\n",
              "      <td>f</td>\n",
              "      <td>f</td>\n",
              "      <td>...</td>\n",
              "      <td>t</td>\n",
              "      <td>109</td>\n",
              "      <td>t</td>\n",
              "      <td>0.91</td>\n",
              "      <td>t</td>\n",
              "      <td>120</td>\n",
              "      <td>f</td>\n",
              "      <td>?</td>\n",
              "      <td>other</td>\n",
              "      <td>P</td>\n",
              "    </tr>\n",
              "    <tr>\n",
              "      <th>3</th>\n",
              "      <td>70</td>\n",
              "      <td>F</td>\n",
              "      <td>t</td>\n",
              "      <td>f</td>\n",
              "      <td>f</td>\n",
              "      <td>f</td>\n",
              "      <td>f</td>\n",
              "      <td>f</td>\n",
              "      <td>f</td>\n",
              "      <td>f</td>\n",
              "      <td>...</td>\n",
              "      <td>t</td>\n",
              "      <td>175</td>\n",
              "      <td>f</td>\n",
              "      <td>?</td>\n",
              "      <td>f</td>\n",
              "      <td>?</td>\n",
              "      <td>f</td>\n",
              "      <td>?</td>\n",
              "      <td>other</td>\n",
              "      <td>P</td>\n",
              "    </tr>\n",
              "    <tr>\n",
              "      <th>4</th>\n",
              "      <td>70</td>\n",
              "      <td>F</td>\n",
              "      <td>f</td>\n",
              "      <td>f</td>\n",
              "      <td>f</td>\n",
              "      <td>f</td>\n",
              "      <td>f</td>\n",
              "      <td>f</td>\n",
              "      <td>f</td>\n",
              "      <td>f</td>\n",
              "      <td>...</td>\n",
              "      <td>t</td>\n",
              "      <td>61</td>\n",
              "      <td>t</td>\n",
              "      <td>0.87</td>\n",
              "      <td>t</td>\n",
              "      <td>70</td>\n",
              "      <td>f</td>\n",
              "      <td>?</td>\n",
              "      <td>SVI</td>\n",
              "      <td>P</td>\n",
              "    </tr>\n",
              "  </tbody>\n",
              "</table>\n",
              "<p>5 rows × 30 columns</p>\n",
              "</div>\n",
              "      <button class=\"colab-df-convert\" onclick=\"convertToInteractive('df-f3eb0230-d9f6-4a5a-8da1-32496b840082')\"\n",
              "              title=\"Convert this dataframe to an interactive table.\"\n",
              "              style=\"display:none;\">\n",
              "        \n",
              "  <svg xmlns=\"http://www.w3.org/2000/svg\" height=\"24px\"viewBox=\"0 0 24 24\"\n",
              "       width=\"24px\">\n",
              "    <path d=\"M0 0h24v24H0V0z\" fill=\"none\"/>\n",
              "    <path d=\"M18.56 5.44l.94 2.06.94-2.06 2.06-.94-2.06-.94-.94-2.06-.94 2.06-2.06.94zm-11 1L8.5 8.5l.94-2.06 2.06-.94-2.06-.94L8.5 2.5l-.94 2.06-2.06.94zm10 10l.94 2.06.94-2.06 2.06-.94-2.06-.94-.94-2.06-.94 2.06-2.06.94z\"/><path d=\"M17.41 7.96l-1.37-1.37c-.4-.4-.92-.59-1.43-.59-.52 0-1.04.2-1.43.59L10.3 9.45l-7.72 7.72c-.78.78-.78 2.05 0 2.83L4 21.41c.39.39.9.59 1.41.59.51 0 1.02-.2 1.41-.59l7.78-7.78 2.81-2.81c.8-.78.8-2.07 0-2.86zM5.41 20L4 18.59l7.72-7.72 1.47 1.35L5.41 20z\"/>\n",
              "  </svg>\n",
              "      </button>\n",
              "      \n",
              "  <style>\n",
              "    .colab-df-container {\n",
              "      display:flex;\n",
              "      flex-wrap:wrap;\n",
              "      gap: 12px;\n",
              "    }\n",
              "\n",
              "    .colab-df-convert {\n",
              "      background-color: #E8F0FE;\n",
              "      border: none;\n",
              "      border-radius: 50%;\n",
              "      cursor: pointer;\n",
              "      display: none;\n",
              "      fill: #1967D2;\n",
              "      height: 32px;\n",
              "      padding: 0 0 0 0;\n",
              "      width: 32px;\n",
              "    }\n",
              "\n",
              "    .colab-df-convert:hover {\n",
              "      background-color: #E2EBFA;\n",
              "      box-shadow: 0px 1px 2px rgba(60, 64, 67, 0.3), 0px 1px 3px 1px rgba(60, 64, 67, 0.15);\n",
              "      fill: #174EA6;\n",
              "    }\n",
              "\n",
              "    [theme=dark] .colab-df-convert {\n",
              "      background-color: #3B4455;\n",
              "      fill: #D2E3FC;\n",
              "    }\n",
              "\n",
              "    [theme=dark] .colab-df-convert:hover {\n",
              "      background-color: #434B5C;\n",
              "      box-shadow: 0px 1px 3px 1px rgba(0, 0, 0, 0.15);\n",
              "      filter: drop-shadow(0px 1px 2px rgba(0, 0, 0, 0.3));\n",
              "      fill: #FFFFFF;\n",
              "    }\n",
              "  </style>\n",
              "\n",
              "      <script>\n",
              "        const buttonEl =\n",
              "          document.querySelector('#df-f3eb0230-d9f6-4a5a-8da1-32496b840082 button.colab-df-convert');\n",
              "        buttonEl.style.display =\n",
              "          google.colab.kernel.accessAllowed ? 'block' : 'none';\n",
              "\n",
              "        async function convertToInteractive(key) {\n",
              "          const element = document.querySelector('#df-f3eb0230-d9f6-4a5a-8da1-32496b840082');\n",
              "          const dataTable =\n",
              "            await google.colab.kernel.invokeFunction('convertToInteractive',\n",
              "                                                     [key], {});\n",
              "          if (!dataTable) return;\n",
              "\n",
              "          const docLinkHtml = 'Like what you see? Visit the ' +\n",
              "            '<a target=\"_blank\" href=https://colab.research.google.com/notebooks/data_table.ipynb>data table notebook</a>'\n",
              "            + ' to learn more about interactive tables.';\n",
              "          element.innerHTML = '';\n",
              "          dataTable['output_type'] = 'display_data';\n",
              "          await google.colab.output.renderOutput(dataTable, element);\n",
              "          const docLink = document.createElement('div');\n",
              "          docLink.innerHTML = docLinkHtml;\n",
              "          element.appendChild(docLink);\n",
              "        }\n",
              "      </script>\n",
              "    </div>\n",
              "  </div>\n",
              "  "
            ]
          },
          "metadata": {},
          "execution_count": 4
        }
      ]
    },
    {
      "cell_type": "markdown",
      "source": [
        "Data Cleaning"
      ],
      "metadata": {
        "id": "hKh3LEW7oxbX"
      }
    },
    {
      "cell_type": "code",
      "source": [
        "thyroid_df.rename(columns={'binaryClass':'Label'},inplace=True)"
      ],
      "metadata": {
        "id": "L47c_QZAm-E6"
      },
      "execution_count": 5,
      "outputs": []
    },
    {
      "cell_type": "code",
      "source": [
        "thyroid_df.replace('?',np.nan,inplace=True)"
      ],
      "metadata": {
        "id": "WoNgVsVspClO"
      },
      "execution_count": 6,
      "outputs": []
    },
    {
      "cell_type": "code",
      "source": [
        "thyroid_df.drop(['T3 measured','TSH measured','TT4 measured','T4U measured','FTI measured','TBG measured','TBG','referral source','on thyroxine','query on thyroxine','on antithyroid medication','query hypothyroid', 'query hyperthyroid','hypopituitary', 'psych'],axis=1,inplace=True)"
      ],
      "metadata": {
        "id": "KZmlEsuspSq9"
      },
      "execution_count": 7,
      "outputs": []
    },
    {
      "cell_type": "code",
      "source": [
        "thyroid_df.info()"
      ],
      "metadata": {
        "colab": {
          "base_uri": "https://localhost:8080/"
        },
        "id": "S67VeAJOpXSU",
        "outputId": "aa647385-c505-4f12-d001-6ad5f17b13f7"
      },
      "execution_count": 8,
      "outputs": [
        {
          "output_type": "stream",
          "name": "stdout",
          "text": [
            "<class 'pandas.core.frame.DataFrame'>\n",
            "RangeIndex: 3772 entries, 0 to 3771\n",
            "Data columns (total 15 columns):\n",
            " #   Column           Non-Null Count  Dtype \n",
            "---  ------           --------------  ----- \n",
            " 0   age              3771 non-null   object\n",
            " 1   sex              3622 non-null   object\n",
            " 2   sick             3772 non-null   object\n",
            " 3   pregnant         3772 non-null   object\n",
            " 4   thyroid surgery  3772 non-null   object\n",
            " 5   I131 treatment   3772 non-null   object\n",
            " 6   lithium          3772 non-null   object\n",
            " 7   goitre           3772 non-null   object\n",
            " 8   tumor            3772 non-null   object\n",
            " 9   TSH              3403 non-null   object\n",
            " 10  T3               3003 non-null   object\n",
            " 11  TT4              3541 non-null   object\n",
            " 12  T4U              3385 non-null   object\n",
            " 13  FTI              3387 non-null   object\n",
            " 14  Label            3772 non-null   object\n",
            "dtypes: object(15)\n",
            "memory usage: 442.2+ KB\n"
          ]
        }
      ]
    },
    {
      "cell_type": "code",
      "source": [
        "thyroid_df['thyroid surgery'].value_counts()"
      ],
      "metadata": {
        "colab": {
          "base_uri": "https://localhost:8080/"
        },
        "id": "8fsF7vdTpq64",
        "outputId": "8acb9f2d-5c3f-47aa-cd08-6c5cee1ea8fb"
      },
      "execution_count": 9,
      "outputs": [
        {
          "output_type": "execute_result",
          "data": {
            "text/plain": [
              "f    3719\n",
              "t      53\n",
              "Name: thyroid surgery, dtype: int64"
            ]
          },
          "metadata": {},
          "execution_count": 9
        }
      ]
    },
    {
      "cell_type": "code",
      "source": [
        "cols = ['age','FTI','TSH','T3','TT4','T4U']\n",
        "for i in cols:\n",
        "    thyroid_df[i] = pd.to_numeric(thyroid_df[i])"
      ],
      "metadata": {
        "id": "wvJ3oigbpyfE"
      },
      "execution_count": 10,
      "outputs": []
    },
    {
      "cell_type": "code",
      "source": [
        "thyroid_df.info()"
      ],
      "metadata": {
        "colab": {
          "base_uri": "https://localhost:8080/"
        },
        "id": "_7S9SqhoqNyv",
        "outputId": "6fec16a7-2926-444b-b58c-cb41d4a859cc"
      },
      "execution_count": 11,
      "outputs": [
        {
          "output_type": "stream",
          "name": "stdout",
          "text": [
            "<class 'pandas.core.frame.DataFrame'>\n",
            "RangeIndex: 3772 entries, 0 to 3771\n",
            "Data columns (total 15 columns):\n",
            " #   Column           Non-Null Count  Dtype  \n",
            "---  ------           --------------  -----  \n",
            " 0   age              3771 non-null   float64\n",
            " 1   sex              3622 non-null   object \n",
            " 2   sick             3772 non-null   object \n",
            " 3   pregnant         3772 non-null   object \n",
            " 4   thyroid surgery  3772 non-null   object \n",
            " 5   I131 treatment   3772 non-null   object \n",
            " 6   lithium          3772 non-null   object \n",
            " 7   goitre           3772 non-null   object \n",
            " 8   tumor            3772 non-null   object \n",
            " 9   TSH              3403 non-null   float64\n",
            " 10  T3               3003 non-null   float64\n",
            " 11  TT4              3541 non-null   float64\n",
            " 12  T4U              3385 non-null   float64\n",
            " 13  FTI              3387 non-null   float64\n",
            " 14  Label            3772 non-null   object \n",
            "dtypes: float64(6), object(9)\n",
            "memory usage: 442.2+ KB\n"
          ]
        }
      ]
    },
    {
      "cell_type": "markdown",
      "source": [
        "Handle Missing Values"
      ],
      "metadata": {
        "id": "kz2zmcGkqvSL"
      }
    },
    {
      "cell_type": "code",
      "source": [
        "thyroid_df.isnull().sum()"
      ],
      "metadata": {
        "colab": {
          "base_uri": "https://localhost:8080/"
        },
        "id": "S7IqpVJoqp8S",
        "outputId": "7f0c7173-f107-4b99-9640-c3f4c1457a0d"
      },
      "execution_count": 12,
      "outputs": [
        {
          "output_type": "execute_result",
          "data": {
            "text/plain": [
              "age                  1\n",
              "sex                150\n",
              "sick                 0\n",
              "pregnant             0\n",
              "thyroid surgery      0\n",
              "I131 treatment       0\n",
              "lithium              0\n",
              "goitre               0\n",
              "tumor                0\n",
              "TSH                369\n",
              "T3                 769\n",
              "TT4                231\n",
              "T4U                387\n",
              "FTI                385\n",
              "Label                0\n",
              "dtype: int64"
            ]
          },
          "metadata": {},
          "execution_count": 12
        }
      ]
    },
    {
      "cell_type": "code",
      "source": [
        "miss_cols = ['FTI','TSH','T3','TT4','T4U']\n",
        "for i in miss_cols:\n",
        "    thyroid_df[i] = thyroid_df[i].fillna(thyroid_df[i].mean())"
      ],
      "metadata": {
        "id": "EN4k0SQLqxHx"
      },
      "execution_count": 13,
      "outputs": []
    },
    {
      "cell_type": "code",
      "source": [
        "thyroid_df.dropna(inplace=True)"
      ],
      "metadata": {
        "id": "5qN9JmBcrPyH"
      },
      "execution_count": 14,
      "outputs": []
    },
    {
      "cell_type": "code",
      "source": [
        "thyroid_df.isnull().sum()"
      ],
      "metadata": {
        "colab": {
          "base_uri": "https://localhost:8080/"
        },
        "id": "_x_FIR5wrUWG",
        "outputId": "26467da2-c929-474e-98b8-65145457ac7b"
      },
      "execution_count": 15,
      "outputs": [
        {
          "output_type": "execute_result",
          "data": {
            "text/plain": [
              "age                0\n",
              "sex                0\n",
              "sick               0\n",
              "pregnant           0\n",
              "thyroid surgery    0\n",
              "I131 treatment     0\n",
              "lithium            0\n",
              "goitre             0\n",
              "tumor              0\n",
              "TSH                0\n",
              "T3                 0\n",
              "TT4                0\n",
              "T4U                0\n",
              "FTI                0\n",
              "Label              0\n",
              "dtype: int64"
            ]
          },
          "metadata": {},
          "execution_count": 15
        }
      ]
    },
    {
      "cell_type": "code",
      "source": [
        "thyroid_df = thyroid_df.drop(1364)"
      ],
      "metadata": {
        "id": "w6oYZlgbrYig"
      },
      "execution_count": 16,
      "outputs": []
    },
    {
      "cell_type": "code",
      "source": [
        "thyroid_df.TT4 = thyroid_df.TT4.astype(int)\n",
        "thyroid_df.FTI = thyroid_df.FTI.astype(int)\n",
        "thyroid_df.age = thyroid_df.age.astype(int)"
      ],
      "metadata": {
        "id": "kamEnYIrrdrX"
      },
      "execution_count": 17,
      "outputs": []
    },
    {
      "cell_type": "markdown",
      "source": [
        "EDA"
      ],
      "metadata": {
        "id": "960GM5SnrmYP"
      }
    },
    {
      "cell_type": "code",
      "source": [
        "sns.countplot(x='Label',data=thyroid_df)\n",
        "plt.title(\"Countplot for Target variable\");"
      ],
      "metadata": {
        "colab": {
          "base_uri": "https://localhost:8080/",
          "height": 295
        },
        "id": "jTsVfJpDriOQ",
        "outputId": "bf5bf24b-bd09-4bff-bda5-471bf4d7d7cb"
      },
      "execution_count": 18,
      "outputs": [
        {
          "output_type": "display_data",
          "data": {
            "text/plain": [
              "<Figure size 432x288 with 1 Axes>"
            ],
            "image/png": "[encoded data removed]"
          },
          "metadata": {
            "needs_background": "light"
          }
        }
      ]
    },
    {
      "cell_type": "code",
      "source": [
        "positive_df = thyroid_df[thyroid_df.Label=='P']"
      ],
      "metadata": {
        "id": "SPlN55G6rl8L"
      },
      "execution_count": 19,
      "outputs": []
    },
    {
      "cell_type": "code",
      "source": [
        "plt.figure(figsize=(9,6))\n",
        "sns.histplot(x='age',data=positive_df,color='brown')\n",
        "plt.title(\"Distribution of Positive Class Based on Age\",{'fontsize':18});"
      ],
      "metadata": {
        "colab": {
          "base_uri": "https://localhost:8080/",
          "height": 408
        },
        "id": "LTMTRIcqrxs_",
        "outputId": "ee1e1251-3693-4ff5-9c7e-b1a2b6580cd9"
      },
      "execution_count": 20,
      "outputs": [
        {
          "output_type": "display_data",
          "data": {
            "text/plain": [
              "<Figure size 648x432 with 1 Axes>"
            ],
            "image/png": "[encoded data removed]"
          },
          "metadata": {
            "needs_background": "light"
          }
        }
      ]
    },
    {
      "cell_type": "code",
      "source": [
        "plt.figure(figsize=(8,8))\n",
        "plt.pie(x=positive_df.sex.value_counts(),\n",
        "        labels=['Female','Male'],\n",
        "        startangle = 90,\n",
        "        colors=['blue','orange'],\n",
        "        autopct='%.2f'\n",
        "       );\n",
        "plt.legend();"
      ],
      "metadata": {
        "colab": {
          "base_uri": "https://localhost:8080/",
          "height": 466
        },
        "id": "MeJcnVzkr1ao",
        "outputId": "113182c6-c841-4af8-f353-24bb2fe2898d"
      },
      "execution_count": 21,
      "outputs": [
        {
          "output_type": "display_data",
          "data": {
            "text/plain": [
              "<Figure size 576x576 with 1 Axes>"
            ],
            "image/png": "[encoded data removed]"
          },
          "metadata": {}
        }
      ]
    },
    {
      "cell_type": "markdown",
      "source": [
        "Inference :\n",
        "Female patients who has disease is greater than male patients."
      ],
      "metadata": {
        "id": "T45W76NLr_E2"
      }
    },
    {
      "cell_type": "code",
      "source": [
        "plt.figure(figsize=(8,8))\n",
        "plt.pie(x=positive_df.sick.value_counts(),\n",
        "        labels=['Sick','Well'],\n",
        "        startangle = 20,\n",
        "        colors=['gray','red'],\n",
        "        autopct='%.2f',\n",
        "        explode=[0,0.2]\n",
        "       );\n",
        "plt.legend();"
      ],
      "metadata": {
        "colab": {
          "base_uri": "https://localhost:8080/",
          "height": 466
        },
        "id": "J7c91lWTsCTR",
        "outputId": "60ad71e0-28ff-4219-9837-76f0879610f3"
      },
      "execution_count": 23,
      "outputs": [
        {
          "output_type": "display_data",
          "data": {
            "text/plain": [
              "<Figure size 576x576 with 1 Axes>"
            ],
            "image/png": "[encoded data removed]"
          },
          "metadata": {}
        }
      ]
    },
    {
      "cell_type": "code",
      "source": [
        "X = thyroid_df.drop('Label',axis=1)\n",
        "y = thyroid_df.Label"
      ],
      "metadata": {
        "id": "uOYWTrlRsGz-"
      },
      "execution_count": 24,
      "outputs": []
    },
    {
      "cell_type": "markdown",
      "source": [
        "Transform non-numerical labels to numerical labels."
      ],
      "metadata": {
        "id": "IfzD2aK9sO6R"
      }
    },
    {
      "cell_type": "code",
      "source": [
        "s_encoder = LabelEncoder()\n",
        "si_encoder = LabelEncoder()\n",
        "preg_encoder = LabelEncoder()\n",
        "th_encoder = LabelEncoder()\n",
        "treat_encoder = LabelEncoder()\n",
        "lith_encoder = LabelEncoder()\n",
        "g_encoder= LabelEncoder()\n",
        "tu_encoder = LabelEncoder()"
      ],
      "metadata": {
        "id": "l9yJmwmvsLGw"
      },
      "execution_count": 25,
      "outputs": []
    },
    {
      "cell_type": "code",
      "source": [
        "X['sex'] = s_encoder.fit_transform(X.sex)\n",
        "X['I131 treatment'] = treat_encoder.fit_transform(X['I131 treatment'])\n",
        "X['sick'] = si_encoder.fit_transform(X.sick)\n",
        "X['pregnant'] = preg_encoder.fit_transform(X.pregnant)\n",
        "X['thyroid surgery'] = th_encoder.fit_transform(X['thyroid surgery'])\n",
        "X['lithium'] = lith_encoder.fit_transform(X['lithium'])\n",
        "X['goitre'] = g_encoder.fit_transform(X['goitre'])\n",
        "X['tumor'] = tu_encoder.fit_transform(X['tumor'])"
      ],
      "metadata": {
        "id": "DMLGEdrgsY9n"
      },
      "execution_count": 26,
      "outputs": []
    },
    {
      "cell_type": "code",
      "source": [
        "# output1 = open('sex_lbl.pkl', 'wb')\n",
        "# pickle.dump(s_encoder, output1)\n",
        "# output1.close()\n",
        "# output2 = open('surgery.pkl', 'wb')\n",
        "# pickle.dump(th_encoder, output2)\n",
        "# output2.close()"
      ],
      "metadata": {
        "id": "0az6ea5ZseYQ"
      },
      "execution_count": 27,
      "outputs": []
    },
    {
      "cell_type": "code",
      "source": [
        "def func(df):\n",
        "    if df == 'P':\n",
        "        return 1\n",
        "    else:\n",
        "        return 0"
      ],
      "metadata": {
        "id": "C3BxMDPIskKg"
      },
      "execution_count": 28,
      "outputs": []
    },
    {
      "cell_type": "code",
      "source": [
        "y = y.apply(func)"
      ],
      "metadata": {
        "id": "8cQlYtDdsoP-"
      },
      "execution_count": 29,
      "outputs": []
    },
    {
      "cell_type": "markdown",
      "source": [
        "Split original data into training data and testing data."
      ],
      "metadata": {
        "id": "qbI8ECkYswa-"
      }
    },
    {
      "cell_type": "code",
      "source": [
        "X_train,X_test,y_train,y_test = train_test_split(X,y,test_size=0.2,random_state=11)"
      ],
      "metadata": {
        "id": "df76XxxksszW"
      },
      "execution_count": 30,
      "outputs": []
    },
    {
      "cell_type": "markdown",
      "source": [
        "Handle Imbalance Data"
      ],
      "metadata": {
        "id": "szC0aL02t4KX"
      }
    },
    {
      "cell_type": "code",
      "source": [
        "smote = SMOTE(random_state=11)\n",
        "\n",
        "x_smote, y_smote = smote.fit_resample(X_train, y_train)"
      ],
      "metadata": {
        "id": "R4yI8X6dt7tp"
      },
      "execution_count": 31,
      "outputs": []
    },
    {
      "cell_type": "code",
      "source": [
        "print(\"Shape before the Oversampling : \",X_train.shape)\n",
        "print(\"Shape after the Oversampling : \",x_smote.shape)"
      ],
      "metadata": {
        "colab": {
          "base_uri": "https://localhost:8080/"
        },
        "id": "DQP5ygYBt0KG",
        "outputId": "ee14ee7c-0420-4db0-803c-8dde40fb4b76"
      },
      "execution_count": 32,
      "outputs": [
        {
          "output_type": "stream",
          "name": "stdout",
          "text": [
            "Shape before the Oversampling :  (2896, 14)\n",
            "Shape after the Oversampling :  (5340, 14)\n"
          ]
        }
      ]
    },
    {
      "cell_type": "markdown",
      "source": [
        "Scaling (Normalization)"
      ],
      "metadata": {
        "id": "bW66ZBm0uMvn"
      }
    },
    {
      "cell_type": "code",
      "source": [
        "scalr = MinMaxScaler()\n",
        "x_smote.TT4 = scalr.fit_transform(x_smote[['TT4']])\n",
        "x_smote.age = scalr.fit_transform(x_smote[['age']])\n",
        "x_smote.FTI = scalr.fit_transform(x_smote[['FTI']])"
      ],
      "metadata": {
        "id": "F2c_TR__uIFF"
      },
      "execution_count": 33,
      "outputs": []
    },
    {
      "cell_type": "markdown",
      "source": [
        "with open('scalar.pkl','wb') as f:\n",
        " #pickle.dump(scalr,f)"
      ],
      "metadata": {
        "id": "OK0_Fb31uWEE"
      }
    },
    {
      "cell_type": "code",
      "source": [
        "X_test.TT4 = scalr.transform(X_test[['TT4']])\n",
        "X_test.age = scalr.transform(X_test[['age']])\n",
        "X_test.FTI = scalr.transform(X_test[['FTI']])"
      ],
      "metadata": {
        "id": "njYGZFm5uTA3"
      },
      "execution_count": 34,
      "outputs": []
    },
    {
      "cell_type": "markdown",
      "source": [
        "Build Models."
      ],
      "metadata": {
        "id": "dhVvScNhujtR"
      }
    },
    {
      "cell_type": "code",
      "source": [
        "models = {\n",
        "    DecisionTreeClassifier() :'Decision Tree Classifier',\n",
        "    LogisticRegression(max_iter=500):'Logistic Regression',\n",
        "    SVC():\"Support Vector Machine\",\n",
        "    RandomForestClassifier():'Random Forest'\n",
        "}\n",
        "for m in models.keys():\n",
        "    m.fit(x_smote,y_smote)\n",
        "for model,name in models.items():\n",
        "     print(f\"Accuracy Score for {name} is : \",model.score(X_test,y_test)*100,\"%\")"
      ],
      "metadata": {
        "colab": {
          "base_uri": "https://localhost:8080/"
        },
        "id": "wB053-YtuhGG",
        "outputId": "95a9358e-6ee3-4c41-bfd7-4a94223b2028"
      },
      "execution_count": 39,
      "outputs": [
        {
          "output_type": "stream",
          "name": "stdout",
          "text": [
            "Accuracy Score for Decision Tree Classifier is :  97.79005524861878 %\n",
            "Accuracy Score for Logistic Regression is :  98.20441988950276 %\n",
            "Accuracy Score for Support Vector Machine is :  98.20441988950276 %\n",
            "Accuracy Score for Random Forest is :  98.89502762430939 %\n"
          ]
        }
      ]
    },
    {
      "cell_type": "markdown",
      "source": [
        "**Inference :**"
      ],
      "metadata": {
        "id": "XZOGY_tuvKcE"
      }
    },
    {
      "cell_type": "markdown",
      "source": [
        "The most of patients who suffer from thyroid belonging to age group between 50-70"
      ],
      "metadata": {
        "id": "jVgIlQaYvKxP"
      }
    },
    {
      "cell_type": "markdown",
      "source": [
        "**Classification Report for each model.**"
      ],
      "metadata": {
        "id": "_fBMDb8PvLDr"
      }
    },
    {
      "cell_type": "code",
      "source": [
        "for model,name in models.items():\n",
        "    y_pred = model.predict(X_test)\n",
        "    print(f\"Classification Report for {name}\")  \n",
        "    print(\"----------------------------------------------------------\")\n",
        "    print(classification_report(y_test,y_pred))\n",
        "    print(\"----------------------------------------------------------\")"
      ],
      "metadata": {
        "colab": {
          "base_uri": "https://localhost:8080/"
        },
        "id": "N3evKUhNvYyv",
        "outputId": "a62c4034-60d6-4620-dea9-6cc44c5918e3"
      },
      "execution_count": 40,
      "outputs": [
        {
          "output_type": "stream",
          "name": "stdout",
          "text": [
            "Classification Report for Decision Tree Classifier\n",
            "----------------------------------------------------------\n",
            "              precision    recall  f1-score   support\n",
            "\n",
            "           0       0.91      0.78      0.84        54\n",
            "           1       0.98      0.99      0.99       670\n",
            "\n",
            "    accuracy                           0.98       724\n",
            "   macro avg       0.95      0.89      0.91       724\n",
            "weighted avg       0.98      0.98      0.98       724\n",
            "\n",
            "----------------------------------------------------------\n",
            "Classification Report for Logistic Regression\n",
            "----------------------------------------------------------\n",
            "              precision    recall  f1-score   support\n",
            "\n",
            "           0       0.86      0.91      0.88        54\n",
            "           1       0.99      0.99      0.99       670\n",
            "\n",
            "    accuracy                           0.98       724\n",
            "   macro avg       0.93      0.95      0.94       724\n",
            "weighted avg       0.98      0.98      0.98       724\n",
            "\n",
            "----------------------------------------------------------\n",
            "Classification Report for Support Vector Machine\n",
            "----------------------------------------------------------\n",
            "              precision    recall  f1-score   support\n",
            "\n",
            "           0       0.82      0.98      0.89        54\n",
            "           1       1.00      0.98      0.99       670\n",
            "\n",
            "    accuracy                           0.98       724\n",
            "   macro avg       0.91      0.98      0.94       724\n",
            "weighted avg       0.98      0.98      0.98       724\n",
            "\n",
            "----------------------------------------------------------\n",
            "Classification Report for Random Forest\n",
            "----------------------------------------------------------\n",
            "              precision    recall  f1-score   support\n",
            "\n",
            "           0       0.93      0.93      0.93        54\n",
            "           1       0.99      0.99      0.99       670\n",
            "\n",
            "    accuracy                           0.99       724\n",
            "   macro avg       0.96      0.96      0.96       724\n",
            "weighted avg       0.99      0.99      0.99       724\n",
            "\n",
            "----------------------------------------------------------\n"
          ]
        }
      ]
    },
    {
      "cell_type": "code",
      "source": [
        "dtc = DecisionTreeClassifier()\n",
        "dtc.fit(x_smote,y_smote)\n",
        "dtc.score(X_test,y_test)"
      ],
      "metadata": {
        "colab": {
          "base_uri": "https://localhost:8080/"
        },
        "id": "ZZw6qltlUvA8",
        "outputId": "ba157312-2cd9-45bf-9bb1-fd3ad5c56893"
      },
      "execution_count": 41,
      "outputs": [
        {
          "output_type": "execute_result",
          "data": {
            "text/plain": [
              "0.9765193370165746"
            ]
          },
          "metadata": {},
          "execution_count": 41
        }
      ]
    },
    {
      "cell_type": "code",
      "source": [
        "lr = LogisticRegression(max_iter=500)\n",
        "lr.fit(x_smote,y_smote)\n",
        "lr.score(X_test,y_test)"
      ],
      "metadata": {
        "id": "1JIloDhrRe1O",
        "outputId": "a85628c8-db11-43c4-a44b-033e97a4e3ef",
        "colab": {
          "base_uri": "https://localhost:8080/"
        }
      },
      "execution_count": null,
      "outputs": [
        {
          "output_type": "execute_result",
          "data": {
            "text/plain": [
              "0.9820441988950276"
            ]
          },
          "metadata": {},
          "execution_count": 52
        }
      ]
    },
    {
      "cell_type": "code",
      "source": [
        "svm = SVC()\n",
        "svm.fit(x_smote,y_smote)\n",
        "svm.score(X_test,y_test)"
      ],
      "metadata": {
        "id": "JXOluVnmKVzK",
        "outputId": "6575bd9d-e821-426c-8d31-7e7a8113c707",
        "colab": {
          "base_uri": "https://localhost:8080/"
        }
      },
      "execution_count": null,
      "outputs": [
        {
          "output_type": "execute_result",
          "data": {
            "text/plain": [
              "0.9820441988950276"
            ]
          },
          "metadata": {},
          "execution_count": 46
        }
      ]
    },
    {
      "cell_type": "code",
      "source": [
        "rf = RandomForestClassifier()\n",
        "rf.fit(x_smote,y_smote)\n",
        "rf.score(X_test,y_test)"
      ],
      "metadata": {
        "colab": {
          "base_uri": "https://localhost:8080/"
        },
        "id": "_PrkJjSkvdLy",
        "outputId": "1491d6ab-d33f-4e19-b3af-4ed0670c45ff"
      },
      "execution_count": 43,
      "outputs": [
        {
          "output_type": "execute_result",
          "data": {
            "text/plain": [
              "0.9917127071823204"
            ]
          },
          "metadata": {},
          "execution_count": 43
        }
      ]
    },
    {
      "cell_type": "code",
      "source": [
        "plt.figure(figsize=(8,8))\n",
        "feature_imp1 = rf.feature_importances_\n",
        "sns.barplot(x=feature_imp1, y=X.columns)\n",
        "# Add labels to your graph\n",
        "plt.xlabel('Scores')\n",
        "plt.ylabel('Features')\n",
        "plt.title(\"Visualization of Important Features For Random Forest \",{'fontsize':25})\n",
        "plt.show();"
      ],
      "metadata": {
        "colab": {
          "base_uri": "https://localhost:8080/",
          "height": 522
        },
        "id": "iRQv2lS5vlWj",
        "outputId": "6a048065-c0c0-4524-d189-12fa69e50a6f"
      },
      "execution_count": 44,
      "outputs": [
        {
          "output_type": "display_data",
          "data": {
            "text/plain": [
              "<Figure size 576x576 with 1 Axes>"
            ],
            "image/png": "[encoded data removed]"
          },
          "metadata": {
            "needs_background": "light"
          }
        }
      ]
    },
    {
      "cell_type": "code",
      "source": [
        "x_smote.drop(['sick', 'pregnant', 'I131 treatment',\n",
        "              'lithium', 'goitre', 'tumor'], axis=1, inplace=True)\n",
        "X_test.drop(['sick', 'pregnant', 'I131 treatment',\n",
        "              'lithium', 'goitre', 'tumor'], axis=1, inplace=True)"
      ],
      "metadata": {
        "id": "VMfs9Qk8vpuO"
      },
      "execution_count": 45,
      "outputs": []
    },
    {
      "cell_type": "code",
      "source": [
        "new_rf = RandomForestClassifier()\n",
        "new_rf.fit(x_smote,y_smote)\n",
        "new_rf.score(X_test,y_test)"
      ],
      "metadata": {
        "colab": {
          "base_uri": "https://localhost:8080/"
        },
        "id": "V3v9bitMvtKJ",
        "outputId": "3983eae0-2347-4d2b-d994-1d71e83934e2"
      },
      "execution_count": 46,
      "outputs": [
        {
          "output_type": "execute_result",
          "data": {
            "text/plain": [
              "0.9917127071823204"
            ]
          },
          "metadata": {},
          "execution_count": 46
        }
      ]
    },
    {
      "cell_type": "markdown",
      "source": [
        "# with open('thyroid.pkl','wb') as f:\n",
        "#     pickle.dump(new_rf,f)"
      ],
      "metadata": {
        "id": "jyooW8qIvwG0"
      }
    },
    {
      "cell_type": "code",
      "source": [
        "thyroid_df.head()"
      ],
      "metadata": {
        "colab": {
          "base_uri": "https://localhost:8080/",
          "height": 287
        },
        "id": "yaEyxZITvyCa",
        "outputId": "0fd0cfd7-30c7-4803-c515-d2a2119523e3"
      },
      "execution_count": 47,
      "outputs": [
        {
          "output_type": "execute_result",
          "data": {
            "text/plain": [
              "   age sex sick pregnant thyroid surgery I131 treatment lithium goitre tumor  \\\n",
              "0   41   F    f        f               f              f       f      f     f   \n",
              "1   23   F    f        f               f              f       f      f     f   \n",
              "2   46   M    f        f               f              f       f      f     f   \n",
              "3   70   F    f        f               f              f       f      f     f   \n",
              "4   70   F    f        f               f              f       f      f     f   \n",
              "\n",
              "    TSH      T3  TT4    T4U  FTI Label  \n",
              "0  1.30  2.5000  125  1.140  109     P  \n",
              "1  4.10  2.0000  102  0.995  110     P  \n",
              "2  0.98  2.0135  109  0.910  120     P  \n",
              "3  0.16  1.9000  175  0.995  110     P  \n",
              "4  0.72  1.2000   61  0.870   70     P  "
            ],
            "text/html": [
              "\n",
              "  <div id=\"df-eca2f029-21ea-4a97-a2cd-7d35a6dadec1\">\n",
              "    <div class=\"colab-df-container\">\n",
              "      <div>\n",
              "<style scoped>\n",
              "    .dataframe tbody tr th:only-of-type {\n",
              "        vertical-align: middle;\n",
              "    }\n",
              "\n",
              "    .dataframe tbody tr th {\n",
              "        vertical-align: top;\n",
              "    }\n",
              "\n",
              "    .dataframe thead th {\n",
              "        text-align: right;\n",
              "    }\n",
              "</style>\n",
              "<table border=\"1\" class=\"dataframe\">\n",
              "  <thead>\n",
              "    <tr style=\"text-align: right;\">\n",
              "      <th></th>\n",
              "      <th>age</th>\n",
              "      <th>sex</th>\n",
              "      <th>sick</th>\n",
              "      <th>pregnant</th>\n",
              "      <th>thyroid surgery</th>\n",
              "      <th>I131 treatment</th>\n",
              "      <th>lithium</th>\n",
              "      <th>goitre</th>\n",
              "      <th>tumor</th>\n",
              "      <th>TSH</th>\n",
              "      <th>T3</th>\n",
              "      <th>TT4</th>\n",
              "      <th>T4U</th>\n",
              "      <th>FTI</th>\n",
              "      <th>Label</th>\n",
              "    </tr>\n",
              "  </thead>\n",
              "  <tbody>\n",
              "    <tr>\n",
              "      <th>0</th>\n",
              "      <td>41</td>\n",
              "      <td>F</td>\n",
              "      <td>f</td>\n",
              "      <td>f</td>\n",
              "      <td>f</td>\n",
              "      <td>f</td>\n",
              "      <td>f</td>\n",
              "      <td>f</td>\n",
              "      <td>f</td>\n",
              "      <td>1.30</td>\n",
              "      <td>2.5000</td>\n",
              "      <td>125</td>\n",
              "      <td>1.140</td>\n",
              "      <td>109</td>\n",
              "      <td>P</td>\n",
              "    </tr>\n",
              "    <tr>\n",
              "      <th>1</th>\n",
              "      <td>23</td>\n",
              "      <td>F</td>\n",
              "      <td>f</td>\n",
              "      <td>f</td>\n",
              "      <td>f</td>\n",
              "      <td>f</td>\n",
              "      <td>f</td>\n",
              "      <td>f</td>\n",
              "      <td>f</td>\n",
              "      <td>4.10</td>\n",
              "      <td>2.0000</td>\n",
              "      <td>102</td>\n",
              "      <td>0.995</td>\n",
              "      <td>110</td>\n",
              "      <td>P</td>\n",
              "    </tr>\n",
              "    <tr>\n",
              "      <th>2</th>\n",
              "      <td>46</td>\n",
              "      <td>M</td>\n",
              "      <td>f</td>\n",
              "      <td>f</td>\n",
              "      <td>f</td>\n",
              "      <td>f</td>\n",
              "      <td>f</td>\n",
              "      <td>f</td>\n",
              "      <td>f</td>\n",
              "      <td>0.98</td>\n",
              "      <td>2.0135</td>\n",
              "      <td>109</td>\n",
              "      <td>0.910</td>\n",
              "      <td>120</td>\n",
              "      <td>P</td>\n",
              "    </tr>\n",
              "    <tr>\n",
              "      <th>3</th>\n",
              "      <td>70</td>\n",
              "      <td>F</td>\n",
              "      <td>f</td>\n",
              "      <td>f</td>\n",
              "      <td>f</td>\n",
              "      <td>f</td>\n",
              "      <td>f</td>\n",
              "      <td>f</td>\n",
              "      <td>f</td>\n",
              "      <td>0.16</td>\n",
              "      <td>1.9000</td>\n",
              "      <td>175</td>\n",
              "      <td>0.995</td>\n",
              "      <td>110</td>\n",
              "      <td>P</td>\n",
              "    </tr>\n",
              "    <tr>\n",
              "      <th>4</th>\n",
              "      <td>70</td>\n",
              "      <td>F</td>\n",
              "      <td>f</td>\n",
              "      <td>f</td>\n",
              "      <td>f</td>\n",
              "      <td>f</td>\n",
              "      <td>f</td>\n",
              "      <td>f</td>\n",
              "      <td>f</td>\n",
              "      <td>0.72</td>\n",
              "      <td>1.2000</td>\n",
              "      <td>61</td>\n",
              "      <td>0.870</td>\n",
              "      <td>70</td>\n",
              "      <td>P</td>\n",
              "    </tr>\n",
              "  </tbody>\n",
              "</table>\n",
              "</div>\n",
              "      <button class=\"colab-df-convert\" onclick=\"convertToInteractive('df-eca2f029-21ea-4a97-a2cd-7d35a6dadec1')\"\n",
              "              title=\"Convert this dataframe to an interactive table.\"\n",
              "              style=\"display:none;\">\n",
              "        \n",
              "  <svg xmlns=\"http://www.w3.org/2000/svg\" height=\"24px\"viewBox=\"0 0 24 24\"\n",
              "       width=\"24px\">\n",
              "    <path d=\"M0 0h24v24H0V0z\" fill=\"none\"/>\n",
              "    <path d=\"M18.56 5.44l.94 2.06.94-2.06 2.06-.94-2.06-.94-.94-2.06-.94 2.06-2.06.94zm-11 1L8.5 8.5l.94-2.06 2.06-.94-2.06-.94L8.5 2.5l-.94 2.06-2.06.94zm10 10l.94 2.06.94-2.06 2.06-.94-2.06-.94-.94-2.06-.94 2.06-2.06.94z\"/><path d=\"M17.41 7.96l-1.37-1.37c-.4-.4-.92-.59-1.43-.59-.52 0-1.04.2-1.43.59L10.3 9.45l-7.72 7.72c-.78.78-.78 2.05 0 2.83L4 21.41c.39.39.9.59 1.41.59.51 0 1.02-.2 1.41-.59l7.78-7.78 2.81-2.81c.8-.78.8-2.07 0-2.86zM5.41 20L4 18.59l7.72-7.72 1.47 1.35L5.41 20z\"/>\n",
              "  </svg>\n",
              "      </button>\n",
              "      \n",
              "  <style>\n",
              "    .colab-df-container {\n",
              "      display:flex;\n",
              "      flex-wrap:wrap;\n",
              "      gap: 12px;\n",
              "    }\n",
              "\n",
              "    .colab-df-convert {\n",
              "      background-color: #E8F0FE;\n",
              "      border: none;\n",
              "      border-radius: 50%;\n",
              "      cursor: pointer;\n",
              "      display: none;\n",
              "      fill: #1967D2;\n",
              "      height: 32px;\n",
              "      padding: 0 0 0 0;\n",
              "      width: 32px;\n",
              "    }\n",
              "\n",
              "    .colab-df-convert:hover {\n",
              "      background-color: #E2EBFA;\n",
              "      box-shadow: 0px 1px 2px rgba(60, 64, 67, 0.3), 0px 1px 3px 1px rgba(60, 64, 67, 0.15);\n",
              "      fill: #174EA6;\n",
              "    }\n",
              "\n",
              "    [theme=dark] .colab-df-convert {\n",
              "      background-color: #3B4455;\n",
              "      fill: #D2E3FC;\n",
              "    }\n",
              "\n",
              "    [theme=dark] .colab-df-convert:hover {\n",
              "      background-color: #434B5C;\n",
              "      box-shadow: 0px 1px 3px 1px rgba(0, 0, 0, 0.15);\n",
              "      filter: drop-shadow(0px 1px 2px rgba(0, 0, 0, 0.3));\n",
              "      fill: #FFFFFF;\n",
              "    }\n",
              "  </style>\n",
              "\n",
              "      <script>\n",
              "        const buttonEl =\n",
              "          document.querySelector('#df-eca2f029-21ea-4a97-a2cd-7d35a6dadec1 button.colab-df-convert');\n",
              "        buttonEl.style.display =\n",
              "          google.colab.kernel.accessAllowed ? 'block' : 'none';\n",
              "\n",
              "        async function convertToInteractive(key) {\n",
              "          const element = document.querySelector('#df-eca2f029-21ea-4a97-a2cd-7d35a6dadec1');\n",
              "          const dataTable =\n",
              "            await google.colab.kernel.invokeFunction('convertToInteractive',\n",
              "                                                     [key], {});\n",
              "          if (!dataTable) return;\n",
              "\n",
              "          const docLinkHtml = 'Like what you see? Visit the ' +\n",
              "            '<a target=\"_blank\" href=https://colab.research.google.com/notebooks/data_table.ipynb>data table notebook</a>'\n",
              "            + ' to learn more about interactive tables.';\n",
              "          element.innerHTML = '';\n",
              "          dataTable['output_type'] = 'display_data';\n",
              "          await google.colab.output.renderOutput(dataTable, element);\n",
              "          const docLink = document.createElement('div');\n",
              "          docLink.innerHTML = docLinkHtml;\n",
              "          element.appendChild(docLink);\n",
              "        }\n",
              "      </script>\n",
              "    </div>\n",
              "  </div>\n",
              "  "
            ]
          },
          "metadata": {},
          "execution_count": 47
        }
      ]
    },
    {
      "cell_type": "markdown",
      "source": [
        "**Conclusion:**"
      ],
      "metadata": {
        "id": "2T6YPr7TwLUs"
      }
    },
    {
      "cell_type": "markdown",
      "source": [
        "\n",
        "\n",
        "Thyroid disease is one of the diseases that afflict the world’s population, and the number of cases of this disease is increasing. Because of medical reports that show serious imbalances in thyroid diseases, ourstudy deals with the classification of thyroid disease between hyperthyroidism and hypothyroidism. This disease was classified using algorithms. Machine learning showed us good results using several algorithmsand was built in the form of two models."
      ],
      "metadata": {
        "id": "p4Fd15xbv5we"
      }
    },
    {
      "cell_type": "code",
      "source": [
        ""
      ],
      "metadata": {
        "id": "rjL0M8f2v9Ow"
      },
      "execution_count": null,
      "outputs": []
    }
  ]
}